{
  "nbformat": 4,
  "nbformat_minor": 0,
  "metadata": {
    "colab": {
      "name": "text_recognition_with_descriptors.ipynb",
      "provenance": [],
      "collapsed_sections": []
    },
    "kernelspec": {
      "name": "python3",
      "display_name": "Python 3"
    },
    "accelerator": "GPU"
  },
  "cells": [
    {
      "cell_type": "code",
      "metadata": {
        "colab": {
          "base_uri": "https://localhost:8080/"
        },
        "id": "g8_e7fqhqSux",
        "outputId": "855caf7a-dc74-41b8-9216-c456383712d4"
      },
      "source": [
        "# Load the Drive helper and mount\n",
        "from google.colab import drive\n",
        "\n",
        "drive.mount('/content/drive')"
      ],
      "execution_count": 2,
      "outputs": [
        {
          "output_type": "stream",
          "name": "stdout",
          "text": [
            "Mounted at /content/drive\n"
          ]
        }
      ]
    },
    {
      "cell_type": "code",
      "metadata": {
        "id": "xAxgQzYKrMxu",
        "colab": {
          "base_uri": "https://localhost:8080/"
        },
        "outputId": "014d1ad7-8d34-462b-a7d0-2842d50a1d4b"
      },
      "source": [
        "!ls \"/content/drive/My Drive/B (test).png\""
      ],
      "execution_count": 3,
      "outputs": [
        {
          "output_type": "stream",
          "name": "stdout",
          "text": [
            "ls: cannot access '/content/drive/My Drive/B (test).png': No such file or directory\n"
          ]
        }
      ]
    },
    {
      "cell_type": "code",
      "metadata": {
        "id": "uqCxAvpBrXcv"
      },
      "source": [
        "import cv2\n",
        "import os\n",
        "import numpy\n",
        "\n",
        "def load_images_from_folder(folder):\n",
        "  images = []\n",
        "  labels = []\n",
        "  for filename in os.listdir(folder):\n",
        "    img = cv2.imread(os.path.join(folder,filename),0)\n",
        "    if img is not None:\n",
        "      img = cv2.bitwise_not(img);\n",
        "      print(filename)\n",
        "      images.append(img)\n",
        "      labels.append(ord(filename[0])-ord('a'))\n",
        "  return images, labels"
      ],
      "execution_count": 4,
      "outputs": []
    },
    {
      "cell_type": "code",
      "metadata": {
        "id": "1SFtjiiCsz--",
        "colab": {
          "base_uri": "https://localhost:8080/"
        },
        "outputId": "36882fe9-efb8-47a5-be49-ab5c504a1056"
      },
      "source": [
        "#Load images from folder\n",
        "folder = '/content/drive/MyDrive/train_letters'\n",
        "\n",
        "images, labels = load_images_from_folder(folder)"
      ],
      "execution_count": 5,
      "outputs": [
        {
          "output_type": "stream",
          "name": "stdout",
          "text": [
            "a (1).png\n",
            "a (2).png\n",
            "a (3).png\n",
            "a (4).png\n",
            "a (5).png\n",
            "a (6).png\n",
            "a (7).png\n",
            "a (8).png\n",
            "a (9).png\n",
            "a (10).png\n",
            "a (11).png\n",
            "b (1).png\n",
            "b (2).png\n",
            "b (3).png\n",
            "b (4).png\n",
            "b (5).png\n",
            "b (6).png\n",
            "b (7).png\n",
            "b (8).png\n",
            "b (9).png\n",
            "b (10).png\n",
            "b (11).png\n"
          ]
        }
      ]
    },
    {
      "cell_type": "code",
      "metadata": {
        "id": "W_k_p-AKtyjI",
        "colab": {
          "base_uri": "https://localhost:8080/",
          "height": 1000
        },
        "outputId": "bf49080c-7b97-4f4a-e0e3-1713a7bf407d"
      },
      "source": [
        "#Test if loading was successful\n",
        "from google.colab.patches import cv2_imshow\n",
        "\n",
        "for i in range(len(images)):\n",
        "  cv2_imshow(images[i])\n",
        "  print(chr(labels[i]+65))"
      ],
      "execution_count": 6,
      "outputs": [
        {
          "output_type": "display_data",
          "data": {
            "text/plain": [
              "<PIL.Image.Image image mode=L size=51x56 at 0x7F2C0022E810>"
            ],
            "image/png": "[encoded data removed]"
          },
          "metadata": {}
        },
        {
          "output_type": "stream",
          "name": "stdout",
          "text": [
            "A\n"
          ]
        },
        {
          "output_type": "display_data",
          "data": {
            "text/plain": [
              "<PIL.Image.Image image mode=L size=43x55 at 0x7F2C001B2310>"
            ],
            "image/png": "[encoded data removed]"
          },
          "metadata": {}
        },
        {
          "output_type": "stream",
          "name": "stdout",
          "text": [
            "A\n"
          ]
        },
        {
          "output_type": "display_data",
          "data": {
            "text/plain": [
              "<PIL.Image.Image image mode=L size=35x54 at 0x7F2C001B2510>"
            ],
            "image/png": "[encoded data removed]"
          },
          "metadata": {}
        },
        {
          "output_type": "stream",
          "name": "stdout",
          "text": [
            "A\n"
          ]
        },
        {
          "output_type": "display_data",
          "data": {
            "text/plain": [
              "<PIL.Image.Image image mode=L size=43x64 at 0x7F2C001B2590>"
            ],
            "image/png": "[encoded data removed]"
          },
          "metadata": {}
        },
        {
          "output_type": "stream",
          "name": "stdout",
          "text": [
            "A\n"
          ]
        },
        {
          "output_type": "display_data",
          "data": {
            "text/plain": [
              "<PIL.Image.Image image mode=L size=40x54 at 0x7F2C001B2690>"
            ],
            "image/png": "[encoded data removed]"
          },
          "metadata": {}
        },
        {
          "output_type": "stream",
          "name": "stdout",
          "text": [
            "A\n"
          ]
        },
        {
          "output_type": "display_data",
          "data": {
            "text/plain": [
              "<PIL.Image.Image image mode=L size=43x58 at 0x7F2C001B28D0>"
            ],
            "image/png": "[encoded data removed]"
          },
          "metadata": {}
        },
        {
          "output_type": "stream",
          "name": "stdout",
          "text": [
            "A\n"
          ]
        },
        {
          "output_type": "display_data",
          "data": {
            "text/plain": [
              "<PIL.Image.Image image mode=L size=31x64 at 0x7F2C001B2850>"
            ],
            "image/png": "[encoded data removed]"
          },
          "metadata": {}
        },
        {
          "output_type": "stream",
          "name": "stdout",
          "text": [
            "A\n"
          ]
        },
        {
          "output_type": "display_data",
          "data": {
            "text/plain": [
              "<PIL.Image.Image image mode=L size=42x64 at 0x7F2C001B2410>"
            ],
            "image/png": "[encoded data removed]"
          },
          "metadata": {}
        },
        {
          "output_type": "stream",
          "name": "stdout",
          "text": [
            "A\n"
          ]
        },
        {
          "output_type": "display_data",
          "data": {
            "text/plain": [
              "<PIL.Image.Image image mode=L size=34x54 at 0x7F2C001B2710>"
            ],
            "image/png": "[encoded data removed]"
          },
          "metadata": {}
        },
        {
          "output_type": "stream",
          "name": "stdout",
          "text": [
            "A\n"
          ]
        },
        {
          "output_type": "display_data",
          "data": {
            "text/plain": [
              "<PIL.Image.Image image mode=L size=40x65 at 0x7F2C001B2990>"
            ],
            "image/png": "[encoded data removed]"
          },
          "metadata": {}
        },
        {
          "output_type": "stream",
          "name": "stdout",
          "text": [
            "A\n"
          ]
        },
        {
          "output_type": "display_data",
          "data": {
            "text/plain": [
              "<PIL.Image.Image image mode=L size=31x61 at 0x7F2C001B2590>"
            ],
            "image/png": "[encoded data removed]"
          },
          "metadata": {}
        },
        {
          "output_type": "stream",
          "name": "stdout",
          "text": [
            "A\n"
          ]
        },
        {
          "output_type": "display_data",
          "data": {
            "text/plain": [
              "<PIL.Image.Image image mode=L size=34x62 at 0x7F2C001B2E90>"
            ],
            "image/png": "[encoded data removed]"
          },
          "metadata": {}
        },
        {
          "output_type": "stream",
          "name": "stdout",
          "text": [
            "B\n"
          ]
        },
        {
          "output_type": "display_data",
          "data": {
            "text/plain": [
              "<PIL.Image.Image image mode=L size=40x65 at 0x7F2C001B2350>"
            ],
            "image/png": "[encoded data removed]"
          },
          "metadata": {}
        },
        {
          "output_type": "stream",
          "name": "stdout",
          "text": [
            "B\n"
          ]
        },
        {
          "output_type": "display_data",
          "data": {
            "text/plain": [
              "<PIL.Image.Image image mode=L size=45x59 at 0x7F2C001B2CD0>"
            ],
            "image/png": "[encoded data removed]"
          },
          "metadata": {}
        },
        {
          "output_type": "stream",
          "name": "stdout",
          "text": [
            "B\n"
          ]
        },
        {
          "output_type": "display_data",
          "data": {
            "text/plain": [
              "<PIL.Image.Image image mode=L size=43x57 at 0x7F2C001B2DD0>"
            ],
            "image/png": "[encoded data removed]"
          },
          "metadata": {}
        },
        {
          "output_type": "stream",
          "name": "stdout",
          "text": [
            "B\n"
          ]
        },
        {
          "output_type": "display_data",
          "data": {
            "text/plain": [
              "<PIL.Image.Image image mode=L size=34x61 at 0x7F2C001B2790>"
            ],
            "image/png": "[encoded data removed]"
          },
          "metadata": {}
        },
        {
          "output_type": "stream",
          "name": "stdout",
          "text": [
            "B\n"
          ]
        },
        {
          "output_type": "display_data",
          "data": {
            "text/plain": [
              "<PIL.Image.Image image mode=L size=47x66 at 0x7F2C001B2910>"
            ],
            "image/png": "[encoded data removed]"
          },
          "metadata": {}
        },
        {
          "output_type": "stream",
          "name": "stdout",
          "text": [
            "B\n"
          ]
        },
        {
          "output_type": "display_data",
          "data": {
            "text/plain": [
              "<PIL.Image.Image image mode=L size=37x57 at 0x7F2C001B8150>"
            ],
            "image/png": "[encoded data removed]"
          },
          "metadata": {}
        },
        {
          "output_type": "stream",
          "name": "stdout",
          "text": [
            "B\n"
          ]
        },
        {
          "output_type": "display_data",
          "data": {
            "text/plain": [
              "<PIL.Image.Image image mode=L size=44x61 at 0x7F2C001B8210>"
            ],
            "image/png": "[encoded data removed]"
          },
          "metadata": {}
        },
        {
          "output_type": "stream",
          "name": "stdout",
          "text": [
            "B\n"
          ]
        },
        {
          "output_type": "display_data",
          "data": {
            "text/plain": [
              "<PIL.Image.Image image mode=L size=36x66 at 0x7F2C001B82D0>"
            ],
            "image/png": "[encoded data removed]"
          },
          "metadata": {}
        },
        {
          "output_type": "stream",
          "name": "stdout",
          "text": [
            "B\n"
          ]
        },
        {
          "output_type": "display_data",
          "data": {
            "text/plain": [
              "<PIL.Image.Image image mode=L size=47x68 at 0x7F2C001B8390>"
            ],
            "image/png": "[encoded data removed]"
          },
          "metadata": {}
        },
        {
          "output_type": "stream",
          "name": "stdout",
          "text": [
            "B\n"
          ]
        },
        {
          "output_type": "display_data",
          "data": {
            "text/plain": [
              "<PIL.Image.Image image mode=L size=38x56 at 0x7F2C001B8450>"
            ],
            "image/png": "[encoded data removed]"
          },
          "metadata": {}
        },
        {
          "output_type": "stream",
          "name": "stdout",
          "text": [
            "B\n"
          ]
        }
      ]
    },
    {
      "cell_type": "code",
      "metadata": {
        "id": "1QPyOq8tnFiD"
      },
      "source": [
        "# Function to compute the fourier descriptors\n",
        "def findDescriptor(img):\n",
        "    \"\"\" findDescriptor(img) finds and returns the\n",
        "    Fourier-Descriptor of the image contour\"\"\"\n",
        "    contour = []\n",
        "    #Find object contour\n",
        "    contour, hierarchy = cv2.findContours(\n",
        "        img,\n",
        "        cv2.RETR_EXTERNAL,\n",
        "        cv2.CHAIN_APPROX_NONE,\n",
        "        contour)\n",
        "\n",
        "    #Create complex number using (x, y) coordinates of the contour points\n",
        "    contour_array = contour[0][:, 0, :]\n",
        "    contour_complex = numpy.empty(contour_array.shape[:-1], dtype=complex)\n",
        "    contour_complex.real = contour_array[:, 0]\n",
        "    contour_complex.imag = contour_array[:, 1]\n",
        "\n",
        "    #Apply Fourier Transform (numpy.fft)\n",
        "    fourier_result = numpy.fft.fft(contour_complex)\n",
        "\n",
        "    return fourier_result\n",
        "\n",
        "#Function that keeps a desired number of fourier descriptors (degree)\n",
        "def truncate_descriptor(descriptors, degree):\n",
        "    \"\"\"this function truncates an unshifted fourier descriptor array\n",
        "    and returns one also unshifted\"\"\"\n",
        "    descriptors = numpy.fft.fftshift(descriptors)\n",
        "    center_index = len(descriptors) / 2\n",
        "    descriptors = descriptors[int(center_index - (degree / 2)):int(center_index + (degree / 2))]\n",
        "    descriptors = numpy.fft.ifftshift(descriptors)\n",
        "    return descriptors"
      ],
      "execution_count": 9,
      "outputs": []
    },
    {
      "cell_type": "code",
      "metadata": {
        "id": "cYBcrAE3uIP2"
      },
      "source": [
        "# Function that computes Hu Moments\n",
        "# Steps:\n",
        "# 1. threshold image (cv2.threshold)\n",
        "# 2. calculate moments (cv2.moments)\n",
        "# 3. compute Hu Moments (cv2.HuMoments)\n",
        "\n",
        "def fd_hu_moments(image):\n",
        "  #step 1 => threshold\n",
        "  _,image = cv2.threshold(image, 128, 255, cv2.THRESH_BINARY_INV)\n",
        "\n",
        "  #step2 => moments\n",
        "  moments = cv2.moments(image)\n",
        "\n",
        "  #step 3 => Hu Moments\n",
        "  huMoments = cv2.HuMoments(moments).flatten()\n",
        "\n",
        "  return huMoments"
      ],
      "execution_count": 10,
      "outputs": []
    },
    {
      "cell_type": "markdown",
      "metadata": {
        "id": "xyzVLvCsjQXr"
      },
      "source": [
        "### Test Hu Moments by performing geometric transformations"
      ]
    },
    {
      "cell_type": "code",
      "metadata": {
        "id": "vzWCEyZ8kgbz",
        "colab": {
          "base_uri": "https://localhost:8080/",
          "height": 1000
        },
        "outputId": "d997f77e-f215-407d-c304-8aafdd8c4046"
      },
      "source": [
        "for img in images:\n",
        "  cv2_imshow(img)\n",
        "  (h, w) = img.shape[:2]\n",
        "  (cX, cY) = (w // 2, h // 2)\n",
        "\n",
        "  #Rotation\n",
        "  MRotation = cv2.getRotationMatrix2D((cX, cY), 5, 1.0)\n",
        "  rotated = cv2.warpAffine(img, MRotation, (w, h))\n",
        "  cv2_imshow(rotated)\n",
        " \n",
        "  #Translation: tx = x-axis, ty = y-axis\n",
        "  #      1 0 tx\n",
        "  #  M = 0 1 ty\n",
        "  MTranslation = numpy.float32([[1,0,2],[0,1,0]])\n",
        "  translated = cv2.warpAffine(img,MTranslation,(w,h))\n",
        "  cv2_imshow(translated)\n",
        "\n",
        "  #Scaling\n",
        "  scaled = cv2.resize(img,None,fx=2, fy=2, interpolation = cv2.INTER_CUBIC)\n",
        "  cv2_imshow(scaled)\n",
        "\n",
        "  #Flipping\n",
        "  #around x\n",
        "  flipVertical = cv2.flip(img, 0)\n",
        "\n",
        "  #around y\n",
        "  flipHorizontal = cv2.flip(img, 1)\n",
        "\n",
        "  #around xy\n",
        "  flipBoth = cv2.flip(img, -1)\n",
        "\n",
        "  hu_img = fd_hu_moments(img)\n",
        "  hu_rot = fd_hu_moments(rotated)\n",
        "  hu_trans= fd_hu_moments(translated)\n",
        "  hu_scal = fd_hu_moments(scaled)\n",
        "  hu_flipV = fd_hu_moments(flipVertical)\n",
        "  hu_flipH = fd_hu_moments(flipHorizontal)\n",
        "  hu_flipVH = fd_hu_moments(flipBoth)\n",
        "  \n",
        "\n",
        "  for i in range(0, 7):\n",
        "    print(\"Moment \"+str(i+1))\n",
        "    print(hu_img[i])\n",
        "    print(hu_rot[i])\n",
        "    print(hu_trans[i])\n",
        "    print(hu_scal[i])\n",
        "    print(hu_flipV[i])\n",
        "    print(hu_flipH[i])\n",
        "    print(hu_flipVH[i])"
      ],
      "execution_count": 12,
      "outputs": [
        {
          "output_type": "display_data",
          "data": {
            "text/plain": [
              "<PIL.Image.Image image mode=L size=51x56 at 0x7F2C00168190>"
            ],
            "image/png": "[encoded data removed]"
          },
          "metadata": {}
        },
        {
          "output_type": "display_data",
          "data": {
            "text/plain": [
              "<PIL.Image.Image image mode=L size=51x56 at 0x7F2C00168810>"
            ],
            "image/png": "[encoded data removed]"
          },
          "metadata": {}
        },
        {
          "output_type": "display_data",
          "data": {
            "text/plain": [
              "<PIL.Image.Image image mode=L size=51x56 at 0x7F2C00168B90>"
            ],
            "image/png": "[encoded data removed]"
          },
          "metadata": {}
        },
        {
          "output_type": "display_data",
          "data": {
            "text/plain": [
              "<PIL.Image.Image image mode=L size=102x112 at 0x7F2C00168890>"
            ],
            "image/png": "[encoded data removed]"
          },
          "metadata": {}
        },
        {
          "output_type": "stream",
          "name": "stdout",
          "text": [
            "Moment 1\n",
            "0.0010801330426470591\n",
            "0.0010826348093137257\n",
            "0.001073256242647059\n",
            "0.0010821384401613304\n",
            "0.0010801330426470591\n",
            "0.0010801330426470591\n",
            "0.0010801330426470591\n",
            "Moment 2\n",
            "2.079174934632747e-09\n",
            "2.5374211247679118e-09\n",
            "3.2334887743848984e-09\n",
            "2.0856896104420327e-09\n",
            "2.07917493463275e-09\n",
            "2.07917493463275e-09\n",
            "2.079174934632747e-09\n",
            "Moment 3\n",
            "1.4277900639753353e-11\n",
            "1.3874047725795723e-11\n",
            "1.6256044345556583e-11\n",
            "1.4255163236401906e-11\n",
            "1.4277900639752847e-11\n",
            "1.4277900639753586e-11\n",
            "1.4277900639753083e-11\n",
            "Moment 4\n",
            "3.788291218007319e-12\n",
            "3.518980106329454e-12\n",
            "5.7744310290625185e-12\n",
            "3.7633190805141855e-12\n",
            "3.7882912180073e-12\n",
            "3.7882912180072935e-12\n",
            "3.788291218007274e-12\n",
            "Moment 5\n",
            "2.5045494529783247e-23\n",
            "2.30149856888024e-23\n",
            "-3.37223319384886e-23\n",
            "2.447459375388266e-23\n",
            "2.5045494529782592e-23\n",
            "2.5045494529782683e-23\n",
            "2.504549452978203e-23\n",
            "Moment 6\n",
            "1.612608749160807e-16\n",
            "1.3460321431309414e-16\n",
            "-6.673318191109629e-17\n",
            "1.5947129947217338e-16\n",
            "1.6126087491607935e-16\n",
            "1.6126087491607745e-16\n",
            "1.6126087491607705e-16\n",
            "Moment 7\n",
            "1.2204931766612915e-23\n",
            "8.65391327517582e-24\n",
            "4.464068629923339e-23\n",
            "1.2679504141993945e-23\n",
            "-1.2204931766612647e-23\n",
            "-1.2204931766613958e-23\n",
            "1.2204931766613689e-23\n"
          ]
        },
        {
          "output_type": "display_data",
          "data": {
            "text/plain": [
              "<PIL.Image.Image image mode=L size=43x55 at 0x7F2C0017B850>"
            ],
            "image/png": "[encoded data removed]"
          },
          "metadata": {}
        },
        {
          "output_type": "display_data",
          "data": {
            "text/plain": [
              "<PIL.Image.Image image mode=L size=43x55 at 0x7F2C0015FD90>"
            ],
            "image/png": "[encoded data removed]"
          },
          "metadata": {}
        },
        {
          "output_type": "display_data",
          "data": {
            "text/plain": [
              "<PIL.Image.Image image mode=L size=43x55 at 0x7F2C0015FB50>"
            ],
            "image/png": "[encoded data removed]"
          },
          "metadata": {}
        },
        {
          "output_type": "display_data",
          "data": {
            "text/plain": [
              "<PIL.Image.Image image mode=L size=86x110 at 0x7F2C00168950>"
            ],
            "image/png": "[encoded data removed]"
          },
          "metadata": {}
        },
        {
          "output_type": "stream",
          "name": "stdout",
          "text": [
            "Moment 1\n",
            "0.0009723132110189576\n",
            "0.000980610757652826\n",
            "0.0009670508464021182\n",
            "0.00097978918359411\n",
            "0.0009723132110189576\n",
            "0.0009723132110189576\n",
            "0.0009723132110189576\n",
            "Moment 2\n",
            "4.408177968823208e-08\n",
            "4.440006966731354e-08\n",
            "4.654543056968816e-08\n",
            "4.357356931282668e-08\n",
            "4.408177968823208e-08\n",
            "4.408177968823208e-08\n",
            "4.408177968823208e-08\n",
            "Moment 3\n",
            "1.451838093648489e-11\n",
            "1.4535060597879476e-11\n",
            "1.5565695391634894e-11\n",
            "1.509130540172309e-11\n",
            "1.4518380936484888e-11\n",
            "1.4518380936484886e-11\n",
            "1.4518380936484413e-11\n",
            "Moment 4\n",
            "1.0501759097596974e-12\n",
            "1.4375416145836438e-12\n",
            "1.448613246562788e-12\n",
            "1.6675860328388254e-12\n",
            "1.050175909759699e-12\n",
            "1.0501759097597004e-12\n",
            "1.0501759097597436e-12\n",
            "Moment 5\n",
            "3.88091179975002e-24\n",
            "6.4707203841127774e-24\n",
            "-2.293709142559556e-24\n",
            "8.08169073407229e-24\n",
            "3.880911799750009e-24\n",
            "3.880911799749997e-24\n",
            "3.8809117997501634e-24\n",
            "Moment 6\n",
            "2.1489076375550402e-16\n",
            "2.874366160545634e-16\n",
            "7.586519623718743e-17\n",
            "3.42414935393494e-16\n",
            "2.1489076375550357e-16\n",
            "2.1489076375550323e-16\n",
            "2.1489076375551178e-16\n",
            "Moment 7\n",
            "1.3243159955316101e-24\n",
            "1.1442590987623569e-24\n",
            "6.485124851332687e-24\n",
            "2.1608131811686314e-24\n",
            "-1.3243159955316694e-24\n",
            "-1.324315995531729e-24\n",
            "1.3243159955318219e-24\n"
          ]
        },
        {
          "output_type": "display_data",
          "data": {
            "text/plain": [
              "<PIL.Image.Image image mode=L size=35x54 at 0x7F2C00184F10>"
            ],
            "image/png": "[encoded data removed]"
          },
          "metadata": {}
        },
        {
          "output_type": "display_data",
          "data": {
            "text/plain": [
              "<PIL.Image.Image image mode=L size=35x54 at 0x7F2C00184DD0>"
            ],
            "image/png": "[encoded data removed]"
          },
          "metadata": {}
        },
        {
          "output_type": "display_data",
          "data": {
            "text/plain": [
              "<PIL.Image.Image image mode=L size=35x54 at 0x7F2C00184D50>"
            ],
            "image/png": "[encoded data removed]"
          },
          "metadata": {}
        },
        {
          "output_type": "display_data",
          "data": {
            "text/plain": [
              "<PIL.Image.Image image mode=L size=70x108 at 0x7F2C00184E50>"
            ],
            "image/png": "[encoded data removed]"
          },
          "metadata": {}
        },
        {
          "output_type": "stream",
          "name": "stdout",
          "text": [
            "Moment 1\n",
            "0.0010922210163287565\n",
            "0.0010992442510397505\n",
            "0.001087089239542185\n",
            "0.001097957672845735\n",
            "0.0010922210163287565\n",
            "0.0010922210163287565\n",
            "0.0010922210163287565\n",
            "Moment 2\n",
            "1.5380908205039995e-07\n",
            "1.573717570661499e-07\n",
            "1.5807710092132222e-07\n",
            "1.5409274599972734e-07\n",
            "1.5380908205039995e-07\n",
            "1.5380908205040003e-07\n",
            "1.5380908205040003e-07\n",
            "Moment 3\n",
            "1.205108065740596e-11\n",
            "1.2752857433962034e-11\n",
            "1.302357395166783e-11\n",
            "1.2958356539199239e-11\n",
            "1.2051080657406165e-11\n",
            "1.2051080657405819e-11\n",
            "1.205108065740589e-11\n",
            "Moment 4\n",
            "2.6508794069402773e-12\n",
            "3.182370919863594e-12\n",
            "3.3140912652887518e-12\n",
            "3.200724955420504e-12\n",
            "2.650879406940246e-12\n",
            "2.6508794069402975e-12\n",
            "2.6508794069402866e-12\n",
            "Moment 5\n",
            "1.476987360682048e-23\n",
            "1.9438068749940586e-23\n",
            "-1.1443285416488746e-24\n",
            "2.0345820079580015e-23\n",
            "1.4769873606820326e-23\n",
            "1.476987360682057e-23\n",
            "1.4769873606820523e-23\n",
            "Moment 6\n",
            "1.0308411487745622e-15\n",
            "1.2615000762354493e-15\n",
            "6.276990048013541e-16\n",
            "1.2488150407563503e-15\n",
            "1.030841148774549e-15\n",
            "1.030841148774571e-15\n",
            "1.0308411487745667e-15\n",
            "Moment 7\n",
            "-2.517989049457313e-24\n",
            "-5.7600858280619805e-24\n",
            "2.1742582207515816e-23\n",
            "-3.3099378424988916e-24\n",
            "2.517989049457406e-24\n",
            "2.517989049457266e-24\n",
            "-2.517989049457265e-24\n"
          ]
        },
        {
          "output_type": "display_data",
          "data": {
            "text/plain": [
              "<PIL.Image.Image image mode=L size=43x64 at 0x7F2C0015FD10>"
            ],
            "image/png": "[encoded data removed]"
          },
          "metadata": {}
        },
        {
          "output_type": "display_data",
          "data": {
            "text/plain": [
              "<PIL.Image.Image image mode=L size=43x64 at 0x7F2C0017BDD0>"
            ],
            "image/png": "[encoded data removed]"
          },
          "metadata": {}
        },
        {
          "output_type": "display_data",
          "data": {
            "text/plain": [
              "<PIL.Image.Image image mode=L size=43x64 at 0x7F2C0017B690>"
            ],
            "image/png": "[encoded data removed]"
          },
          "metadata": {}
        },
        {
          "output_type": "display_data",
          "data": {
            "text/plain": [
              "<PIL.Image.Image image mode=L size=86x128 at 0x7F2C0017B690>"
            ],
            "image/png": "[encoded data removed]"
          },
          "metadata": {}
        },
        {
          "output_type": "stream",
          "name": "stdout",
          "text": [
            "Moment 1\n",
            "0.0014804681229754837\n",
            "0.001487674631101949\n",
            "0.00146410010133163\n",
            "0.001481017910041322\n",
            "0.001480468122975484\n",
            "0.0014804681229754837\n",
            "0.001480468122975484\n",
            "Moment 2\n",
            "1.929393884632706e-07\n",
            "2.051103870987163e-07\n",
            "2.1058727881815064e-07\n",
            "1.9380619943070142e-07\n",
            "1.9293938846327092e-07\n",
            "1.9293938846327062e-07\n",
            "1.929393884632709e-07\n",
            "Moment 3\n",
            "5.982908659212925e-11\n",
            "6.513891425263036e-11\n",
            "7.196659633937965e-11\n",
            "5.99247952912593e-11\n",
            "5.982908659212905e-11\n",
            "5.982908659212886e-11\n",
            "5.982908659212824e-11\n",
            "Moment 4\n",
            "5.749634212565818e-11\n",
            "5.699904624072663e-11\n",
            "6.54398909145973e-11\n",
            "5.7341717283193336e-11\n",
            "5.7496342125658225e-11\n",
            "5.749634212565831e-11\n",
            "5.7496342125658516e-11\n",
            "Moment 5\n",
            "3.2492174313737006e-21\n",
            "3.3556399766968416e-21\n",
            "8.271848600863906e-22\n",
            "3.2329445772248695e-21\n",
            "3.2492174313736987e-21\n",
            "3.249217431373701e-21\n",
            "3.249217431373702e-21\n",
            "Moment 6\n",
            "2.478854605719931e-14\n",
            "2.4341867059502906e-14\n",
            "1.6054035779347777e-14\n",
            "2.474897823306201e-14\n",
            "2.4788546057199368e-14\n",
            "2.4788546057199365e-14\n",
            "2.4788546057199466e-14\n",
            "Moment 7\n",
            "9.024886642656959e-22\n",
            "8.957375473708445e-22\n",
            "4.4140198902346875e-21\n",
            "9.200617086367612e-22\n",
            "-9.024886642656947e-22\n",
            "-9.024886642656951e-22\n",
            "9.024886642656946e-22\n"
          ]
        },
        {
          "output_type": "display_data",
          "data": {
            "text/plain": [
              "<PIL.Image.Image image mode=L size=40x54 at 0x7F2C0015FC10>"
            ],
            "image/png": "[encoded data removed]"
          },
          "metadata": {}
        },
        {
          "output_type": "display_data",
          "data": {
            "text/plain": [
              "<PIL.Image.Image image mode=L size=40x54 at 0x7F2C0017BF10>"
            ],
            "image/png": "[encoded data removed]"
          },
          "metadata": {}
        },
        {
          "output_type": "display_data",
          "data": {
            "text/plain": [
              "<PIL.Image.Image image mode=L size=40x54 at 0x7F2C0017BC90>"
            ],
            "image/png": "[encoded data removed]"
          },
          "metadata": {}
        },
        {
          "output_type": "display_data",
          "data": {
            "text/plain": [
              "<PIL.Image.Image image mode=L size=80x108 at 0x7F2C0017BCD0>"
            ],
            "image/png": "[encoded data removed]"
          },
          "metadata": {}
        },
        {
          "output_type": "stream",
          "name": "stdout",
          "text": [
            "Moment 1\n",
            "0.0009952594150577812\n",
            "0.001001024247635241\n",
            "0.0009905560922849029\n",
            "0.0010009952247798102\n",
            "0.0009952594150577816\n",
            "0.0009952594150577812\n",
            "0.0009952594150577816\n",
            "Moment 2\n",
            "5.516799146662412e-08\n",
            "5.7928974245728705e-08\n",
            "5.779537459705534e-08\n",
            "5.437568076613715e-08\n",
            "5.516799146662427e-08\n",
            "5.516799146662412e-08\n",
            "5.516799146662427e-08\n",
            "Moment 3\n",
            "8.763287439021274e-12\n",
            "9.476272349301085e-12\n",
            "9.923429113086062e-12\n",
            "8.961305202272787e-12\n",
            "8.763287439021496e-12\n",
            "8.763287439021352e-12\n",
            "8.76328743902134e-12\n",
            "Moment 4\n",
            "2.652954131380028e-12\n",
            "3.224723051045046e-12\n",
            "3.0269143525740194e-12\n",
            "3.3204439024342606e-12\n",
            "2.6529541313800637e-12\n",
            "2.652954131380013e-12\n",
            "2.6529541313800932e-12\n",
            "Moment 5\n",
            "1.2791694412814958e-23\n",
            "1.773386951647547e-23\n",
            "1.9250781724460693e-24\n",
            "1.809984840852556e-23\n",
            "1.2791694412815375e-23\n",
            "1.2791694412814905e-23\n",
            "1.2791694412815472e-23\n",
            "Moment 6\n",
            "6.231210403856268e-16\n",
            "7.753897604569982e-16\n",
            "4.1911767726713523e-16\n",
            "7.741381106664568e-16\n",
            "6.23121040385636e-16\n",
            "6.231210403856233e-16\n",
            "6.231210403856428e-16\n",
            "Moment 7\n",
            "6.975165014649949e-27\n",
            "-1.811426688154942e-24\n",
            "1.6477341437703993e-23\n",
            "6.784873015221044e-25\n",
            "-6.975165014532755e-27\n",
            "-6.975165014673872e-27\n",
            "6.975165014767407e-27\n"
          ]
        },
        {
          "output_type": "display_data",
          "data": {
            "text/plain": [
              "<PIL.Image.Image image mode=L size=43x58 at 0x7F2C00167090>"
            ],
            "image/png": "[encoded data removed]"
          },
          "metadata": {}
        },
        {
          "output_type": "display_data",
          "data": {
            "text/plain": [
              "<PIL.Image.Image image mode=L size=43x58 at 0x7F2C00168CD0>"
            ],
            "image/png": "[encoded data removed]"
          },
          "metadata": {}
        },
        {
          "output_type": "display_data",
          "data": {
            "text/plain": [
              "<PIL.Image.Image image mode=L size=43x58 at 0x7F2C00168710>"
            ],
            "image/png": "[encoded data removed]"
          },
          "metadata": {}
        },
        {
          "output_type": "display_data",
          "data": {
            "text/plain": [
              "<PIL.Image.Image image mode=L size=86x116 at 0x7F2C00168510>"
            ],
            "image/png": "[encoded data removed]"
          },
          "metadata": {}
        },
        {
          "output_type": "stream",
          "name": "stdout",
          "text": [
            "Moment 1\n",
            "0.001417213286549562\n",
            "0.0014152152515529983\n",
            "0.0013984703227302013\n",
            "0.0014088808887154913\n",
            "0.001417213286549562\n",
            "0.001417213286549562\n",
            "0.001417213286549562\n",
            "Moment 2\n",
            "5.82839742728305e-08\n",
            "7.52543712994208e-08\n",
            "7.208360319918245e-08\n",
            "6.068059186654496e-08\n",
            "5.828397427283041e-08\n",
            "5.8283974272830516e-08\n",
            "5.82839742728304e-08\n",
            "Moment 3\n",
            "4.9282437390034375e-11\n",
            "5.4503011883218763e-11\n",
            "7.029243706014883e-11\n",
            "4.622002662453003e-11\n",
            "4.928243739003414e-11\n",
            "4.928243739003434e-11\n",
            "4.928243739003414e-11\n",
            "Moment 4\n",
            "2.193032031246442e-11\n",
            "2.1284861661249705e-11\n",
            "2.9484202724931215e-11\n",
            "2.3749555963942083e-11\n",
            "2.193032031246416e-11\n",
            "2.193032031246443e-11\n",
            "2.193032031246416e-11\n",
            "Moment 5\n",
            "6.8382787455664455e-22\n",
            "7.03508123735609e-22\n",
            "-8.374898748569386e-22\n",
            "7.510901783215969e-22\n",
            "6.8382787455663035e-22\n",
            "6.838278745566442e-22\n",
            "6.8382787455663035e-22\n",
            "Moment 6\n",
            "5.153714716310778e-15\n",
            "5.359099703962806e-15\n",
            "1.9426229908241288e-16\n",
            "5.717784394104117e-15\n",
            "5.153714716310707e-15\n",
            "5.153714716310773e-15\n",
            "5.153714716310709e-15\n",
            "Moment 7\n",
            "2.28404161660123e-22\n",
            "1.750693045452287e-22\n",
            "1.0489456673897012e-21\n",
            "2.345520833315333e-22\n",
            "-2.2840416166012053e-22\n",
            "-2.284041616601248e-22\n",
            "2.2840416166012053e-22\n"
          ]
        },
        {
          "output_type": "display_data",
          "data": {
            "text/plain": [
              "<PIL.Image.Image image mode=L size=31x64 at 0x7F2C00183E50>"
            ],
            "image/png": "[encoded data removed]"
          },
          "metadata": {}
        },
        {
          "output_type": "display_data",
          "data": {
            "text/plain": [
              "<PIL.Image.Image image mode=L size=31x64 at 0x7F2C00168A90>"
            ],
            "image/png": "[encoded data removed]"
          },
          "metadata": {}
        },
        {
          "output_type": "display_data",
          "data": {
            "text/plain": [
              "<PIL.Image.Image image mode=L size=31x64 at 0x7F2C001685D0>"
            ],
            "image/png": "[encoded data removed]"
          },
          "metadata": {}
        },
        {
          "output_type": "display_data",
          "data": {
            "text/plain": [
              "<PIL.Image.Image image mode=L size=62x128 at 0x7F2C00168290>"
            ],
            "image/png": "[encoded data removed]"
          },
          "metadata": {}
        },
        {
          "output_type": "stream",
          "name": "stdout",
          "text": [
            "Moment 1\n",
            "0.0013890000294110888\n",
            "0.0013923452502265896\n",
            "0.00138012348783571\n",
            "0.0013894133203628278\n",
            "0.0013890000294110888\n",
            "0.0013890000294110888\n",
            "0.0013890000294110888\n",
            "Moment 2\n",
            "6.546795252979379e-07\n",
            "6.671767847734654e-07\n",
            "6.691841934775605e-07\n",
            "6.559151254609184e-07\n",
            "6.546795252979379e-07\n",
            "6.546795252979379e-07\n",
            "6.546795252979379e-07\n",
            "Moment 3\n",
            "1.7140771809497036e-11\n",
            "1.7830148501095355e-11\n",
            "1.8921259575004322e-11\n",
            "1.7624022205522922e-11\n",
            "1.7140771809496952e-11\n",
            "1.714077180949721e-11\n",
            "1.7140771809497276e-11\n",
            "Moment 4\n",
            "3.1613146382213393e-12\n",
            "3.647366191805107e-12\n",
            "5.530108112244571e-12\n",
            "3.5949039569567e-12\n",
            "3.161314638221351e-12\n",
            "3.1613146382213175e-12\n",
            "3.1613146382213013e-12\n",
            "Moment 5\n",
            "2.2599267121745106e-23\n",
            "2.9397965100379e-23\n",
            "-2.1154859611054744e-23\n",
            "2.8084217548365153e-23\n",
            "2.2599267121745182e-23\n",
            "2.259926712174494e-23\n",
            "2.259926712174488e-23\n",
            "Moment 6\n",
            "2.5143597989636878e-15\n",
            "2.9474293024469065e-15\n",
            "4.133923421423263e-16\n",
            "2.8833559598474733e-15\n",
            "2.5143597989636972e-15\n",
            "2.5143597989636665e-15\n",
            "2.5143597989636605e-15\n",
            "Moment 7\n",
            "5.551294072689764e-24\n",
            "-9.554792105399988e-25\n",
            "5.246407124648367e-23\n",
            "5.482346642882648e-24\n",
            "-5.5512940726897666e-24\n",
            "-5.551294072689906e-24\n",
            "5.551294072689599e-24\n"
          ]
        },
        {
          "output_type": "display_data",
          "data": {
            "text/plain": [
              "<PIL.Image.Image image mode=L size=42x64 at 0x7F2C0017A210>"
            ],
            "image/png": "[encoded data removed]"
          },
          "metadata": {}
        },
        {
          "output_type": "display_data",
          "data": {
            "text/plain": [
              "<PIL.Image.Image image mode=L size=42x64 at 0x7F2C0017BE90>"
            ],
            "image/png": "[encoded data removed]"
          },
          "metadata": {}
        },
        {
          "output_type": "display_data",
          "data": {
            "text/plain": [
              "<PIL.Image.Image image mode=L size=42x64 at 0x7F2C0017B150>"
            ],
            "image/png": "[encoded data removed]"
          },
          "metadata": {}
        },
        {
          "output_type": "display_data",
          "data": {
            "text/plain": [
              "<PIL.Image.Image image mode=L size=84x128 at 0x7F2C0017BD90>"
            ],
            "image/png": "[encoded data removed]"
          },
          "metadata": {}
        },
        {
          "output_type": "stream",
          "name": "stdout",
          "text": [
            "Moment 1\n",
            "0.0014956443260565797\n",
            "0.0014883989998925359\n",
            "0.0014724643357187364\n",
            "0.0014922541472634013\n",
            "0.0014956443260565797\n",
            "0.0014956443260565797\n",
            "0.0014956443260565797\n",
            "Moment 2\n",
            "2.429618247521325e-07\n",
            "2.53449662875228e-07\n",
            "2.690247271997303e-07\n",
            "2.443400599746305e-07\n",
            "2.429618247521325e-07\n",
            "2.429618247521325e-07\n",
            "2.429618247521325e-07\n",
            "Moment 3\n",
            "7.614878135204851e-11\n",
            "8.075411816284518e-11\n",
            "9.12310458112506e-11\n",
            "7.431955256116937e-11\n",
            "7.614878135204878e-11\n",
            "7.614878135204803e-11\n",
            "7.614878135204828e-11\n",
            "Moment 4\n",
            "4.5056457847011855e-11\n",
            "3.9028477280791376e-11\n",
            "5.6404237228560786e-11\n",
            "4.031229544490374e-11\n",
            "4.50564578470118e-11\n",
            "4.505645784701191e-11\n",
            "4.505645784701189e-11\n",
            "Moment 5\n",
            "2.1140349439354164e-21\n",
            "1.8324838792591912e-21\n",
            "-5.942998517480787e-22\n",
            "1.7418722795947367e-21\n",
            "2.1140349439354156e-21\n",
            "2.1140349439354246e-21\n",
            "2.1140349439354243e-21\n",
            "Moment 6\n",
            "1.9891743164297206e-14\n",
            "1.6235373041519733e-14\n",
            "8.849803499989251e-15\n",
            "1.7727425515864328e-14\n",
            "1.989174316429718e-14\n",
            "1.98917431642973e-14\n",
            "1.9891743164297262e-14\n",
            "Moment 7\n",
            "1.5798937796852178e-21\n",
            "1.2011483545314384e-21\n",
            "4.002237757300889e-21\n",
            "1.3544780318103582e-21\n",
            "-1.5798937796852186e-21\n",
            "-1.5798937796852007e-21\n",
            "1.5798937796852043e-21\n"
          ]
        },
        {
          "output_type": "display_data",
          "data": {
            "text/plain": [
              "<PIL.Image.Image image mode=L size=34x54 at 0x7F2C00160210>"
            ],
            "image/png": "[encoded data removed]"
          },
          "metadata": {}
        },
        {
          "output_type": "display_data",
          "data": {
            "text/plain": [
              "<PIL.Image.Image image mode=L size=34x54 at 0x7F2C0016DDD0>"
            ],
            "image/png": "[encoded data removed]"
          },
          "metadata": {}
        },
        {
          "output_type": "display_data",
          "data": {
            "text/plain": [
              "<PIL.Image.Image image mode=L size=34x54 at 0x7F2C0016DC50>"
            ],
            "image/png": "[encoded data removed]"
          },
          "metadata": {}
        },
        {
          "output_type": "display_data",
          "data": {
            "text/plain": [
              "<PIL.Image.Image image mode=L size=68x108 at 0x7F2C0016DF10>"
            ],
            "image/png": "[encoded data removed]"
          },
          "metadata": {}
        },
        {
          "output_type": "stream",
          "name": "stdout",
          "text": [
            "Moment 1\n",
            "0.0014181730891923987\n",
            "0.001426180304238146\n",
            "0.0014005028591464466\n",
            "0.0014220994298861087\n",
            "0.0014181730891923983\n",
            "0.0014181730891923987\n",
            "0.0014181730891923983\n",
            "Moment 2\n",
            "2.5296815292486716e-07\n",
            "2.6215212226322345e-07\n",
            "2.72301776687895e-07\n",
            "2.5376717661260885e-07\n",
            "2.5296815292486674e-07\n",
            "2.5296815292486706e-07\n",
            "2.5296815292486663e-07\n",
            "Moment 3\n",
            "4.272153496787179e-11\n",
            "4.266533828071179e-11\n",
            "4.93062486945553e-11\n",
            "4.2812846230749115e-11\n",
            "4.272153496787168e-11\n",
            "4.272153496787168e-11\n",
            "4.272153496787191e-11\n",
            "Moment 4\n",
            "1.6269464217166686e-11\n",
            "1.711544855484573e-11\n",
            "2.37687701465807e-11\n",
            "1.7237117166218554e-11\n",
            "1.6269464217166715e-11\n",
            "1.626946421716672e-11\n",
            "1.626946421716667e-11\n",
            "Moment 5\n",
            "4.163113698869189e-22\n",
            "4.616710480444531e-22\n",
            "-3.396715917543049e-22\n",
            "4.607836252486723e-22\n",
            "4.163113698869193e-22\n",
            "4.163113698869192e-22\n",
            "4.1631136988691867e-22\n",
            "Moment 6\n",
            "8.071582154905317e-15\n",
            "8.692788637850446e-15\n",
            "2.3208420692813533e-15\n",
            "8.613068831225387e-15\n",
            "8.071582154905318e-15\n",
            "8.07158215490532e-15\n",
            "8.071582154905295e-15\n",
            "Moment 7\n",
            "1.032624970350867e-22\n",
            "-2.782548520113693e-23\n",
            "7.394057972773924e-22\n",
            "8.332339818155351e-23\n",
            "-1.0326249703508806e-22\n",
            "-1.0326249703508876e-22\n",
            "1.0326249703508737e-22\n"
          ]
        },
        {
          "output_type": "display_data",
          "data": {
            "text/plain": [
              "<PIL.Image.Image image mode=L size=40x65 at 0x7F2C00184210>"
            ],
            "image/png": "[encoded data removed]"
          },
          "metadata": {}
        },
        {
          "output_type": "display_data",
          "data": {
            "text/plain": [
              "<PIL.Image.Image image mode=L size=40x65 at 0x7F2C0017B4D0>"
            ],
            "image/png": "[encoded data removed]"
          },
          "metadata": {}
        },
        {
          "output_type": "display_data",
          "data": {
            "text/plain": [
              "<PIL.Image.Image image mode=L size=40x65 at 0x7F2C0017B150>"
            ],
            "image/png": "[encoded data removed]"
          },
          "metadata": {}
        },
        {
          "output_type": "display_data",
          "data": {
            "text/plain": [
              "<PIL.Image.Image image mode=L size=80x130 at 0x7F2C0017BE90>"
            ],
            "image/png": "[encoded data removed]"
          },
          "metadata": {}
        },
        {
          "output_type": "stream",
          "name": "stdout",
          "text": [
            "Moment 1\n",
            "0.0012505393639941924\n",
            "0.0012551685974316925\n",
            "0.001246464781410571\n",
            "0.0012520367181642635\n",
            "0.0012505393639941926\n",
            "0.0012505393639941926\n",
            "0.0012505393639941928\n",
            "Moment 2\n",
            "2.2521559526879287e-07\n",
            "2.3143005453727878e-07\n",
            "2.29696561721264e-07\n",
            "2.2609682165888758e-07\n",
            "2.2521559526879318e-07\n",
            "2.252155952687927e-07\n",
            "2.2521559526879302e-07\n",
            "Moment 3\n",
            "1.477374574693919e-11\n",
            "1.5342804116125274e-11\n",
            "1.6211982895008445e-11\n",
            "1.4668524745006885e-11\n",
            "1.4773745746939406e-11\n",
            "1.477374574693919e-11\n",
            "1.477374574693924e-11\n",
            "Moment 4\n",
            "2.489305447692547e-11\n",
            "2.7458968490316536e-11\n",
            "2.5807659991887994e-11\n",
            "2.5010253467342635e-11\n",
            "2.4893054476925748e-11\n",
            "2.4893054476925467e-11\n",
            "2.4893054476925813e-11\n",
            "Moment 5\n",
            "4.707318482073166e-22\n",
            "5.617389301072972e-22\n",
            "3.674568489715377e-22\n",
            "4.724732631628199e-22\n",
            "4.70731848207328e-22\n",
            "4.707318482073169e-22\n",
            "4.7073184820732765e-22\n",
            "Moment 6\n",
            "1.1738288238433314e-14\n",
            "1.3209385332862705e-14\n",
            "1.05465645926569e-14\n",
            "1.1814510504855672e-14\n",
            "1.1738288238433454e-14\n",
            "1.1738288238433314e-14\n",
            "1.1738288238433486e-14\n",
            "Moment 7\n",
            "-7.938189688342032e-23\n",
            "-4.588701847193544e-23\n",
            "3.789989517110913e-22\n",
            "-7.903693116746103e-23\n",
            "7.938189688342177e-23\n",
            "7.938189688341748e-23\n",
            "-7.938189688341875e-23\n"
          ]
        },
        {
          "output_type": "display_data",
          "data": {
            "text/plain": [
              "<PIL.Image.Image image mode=L size=31x61 at 0x7F2C00160210>"
            ],
            "image/png": "[encoded data removed]"
          },
          "metadata": {}
        },
        {
          "output_type": "display_data",
          "data": {
            "text/plain": [
              "<PIL.Image.Image image mode=L size=31x61 at 0x7F2C0016DD90>"
            ],
            "image/png": "[encoded data removed]"
          },
          "metadata": {}
        },
        {
          "output_type": "display_data",
          "data": {
            "text/plain": [
              "<PIL.Image.Image image mode=L size=31x61 at 0x7F2C0016DA10>"
            ],
            "image/png": "[encoded data removed]"
          },
          "metadata": {}
        },
        {
          "output_type": "display_data",
          "data": {
            "text/plain": [
              "<PIL.Image.Image image mode=L size=62x122 at 0x7F2C0016D110>"
            ],
            "image/png": "[encoded data removed]"
          },
          "metadata": {}
        },
        {
          "output_type": "stream",
          "name": "stdout",
          "text": [
            "Moment 1\n",
            "0.0014530203812727386\n",
            "0.001454820597706658\n",
            "0.0014487397634525537\n",
            "0.0014533896832579093\n",
            "0.0014530203812727386\n",
            "0.0014530203812727386\n",
            "0.0014530203812727386\n",
            "Moment 2\n",
            "6.921615318460585e-07\n",
            "7.10019625147319e-07\n",
            "6.991152255748918e-07\n",
            "6.924457266568775e-07\n",
            "6.921615318460585e-07\n",
            "6.921615318460585e-07\n",
            "6.921615318460585e-07\n",
            "Moment 3\n",
            "6.482155294467057e-12\n",
            "5.4752084475506204e-12\n",
            "1.0731261374965766e-11\n",
            "6.423391494293703e-12\n",
            "6.482155294467377e-12\n",
            "6.482155294467039e-12\n",
            "6.482155294467359e-12\n",
            "Moment 4\n",
            "7.260400083120042e-13\n",
            "6.183644644803326e-13\n",
            "2.869461613049883e-12\n",
            "7.944121434282096e-13\n",
            "7.260400083119145e-13\n",
            "7.260400083119965e-13\n",
            "7.260400083119068e-13\n",
            "Moment 5\n",
            "5.776612063284441e-25\n",
            "-2.134057198669617e-25\n",
            "1.365366282417e-23\n",
            "3.7704696200107865e-25\n",
            "5.776612063285314e-25\n",
            "5.776612063283865e-25\n",
            "5.776612063284739e-25\n",
            "Moment 6\n",
            "2.0218436631530402e-16\n",
            "2.0268563981481805e-16\n",
            "-1.2083920519254489e-15\n",
            "2.8498737066601633e-16\n",
            "2.0218436631523105e-16\n",
            "2.021843663153107e-16\n",
            "2.0218436631523768e-16\n",
            "Moment 7\n",
            "-1.4653193742288295e-24\n",
            "-1.1176108030394937e-24\n",
            "-8.192724114132524e-24\n",
            "-1.7544736324591233e-24\n",
            "1.4653193742285231e-24\n",
            "1.465319374228823e-24\n",
            "-1.4653193742285167e-24\n"
          ]
        },
        {
          "output_type": "display_data",
          "data": {
            "text/plain": [
              "<PIL.Image.Image image mode=L size=34x62 at 0x7F2C00184210>"
            ],
            "image/png": "[encoded data removed]"
          },
          "metadata": {}
        },
        {
          "output_type": "display_data",
          "data": {
            "text/plain": [
              "<PIL.Image.Image image mode=L size=34x62 at 0x7F2C0017B750>"
            ],
            "image/png": "[encoded data removed]"
          },
          "metadata": {}
        },
        {
          "output_type": "display_data",
          "data": {
            "text/plain": [
              "<PIL.Image.Image image mode=L size=34x62 at 0x7F2C0017B150>"
            ],
            "image/png": "[encoded data removed]"
          },
          "metadata": {}
        },
        {
          "output_type": "display_data",
          "data": {
            "text/plain": [
              "<PIL.Image.Image image mode=L size=68x124 at 0x7F2C0017B190>"
            ],
            "image/png": "[encoded data removed]"
          },
          "metadata": {}
        },
        {
          "output_type": "stream",
          "name": "stdout",
          "text": [
            "Moment 1\n",
            "0.001479290975301549\n",
            "0.0014777197241141495\n",
            "0.001486292579961556\n",
            "0.001479579549717768\n",
            "0.0014792909753015486\n",
            "0.001479290975301549\n",
            "0.0014792909753015486\n",
            "Moment 2\n",
            "5.521217508271107e-07\n",
            "5.629663964694832e-07\n",
            "5.417044301370426e-07\n",
            "5.52742066524165e-07\n",
            "5.521217508271101e-07\n",
            "5.521217508271107e-07\n",
            "5.521217508271101e-07\n",
            "Moment 3\n",
            "7.091194128104564e-13\n",
            "3.010329810266145e-12\n",
            "3.3868861695081376e-12\n",
            "7.335114828535339e-13\n",
            "7.091194128106038e-13\n",
            "7.09119412810533e-13\n",
            "7.091194128104849e-13\n",
            "Moment 4\n",
            "2.555727033038007e-12\n",
            "3.4625746314076356e-12\n",
            "7.909327664759548e-13\n",
            "2.688684011643605e-12\n",
            "2.5557270330379385e-12\n",
            "2.555727033037949e-12\n",
            "2.555727033037996e-12\n",
            "Moment 5\n",
            "-1.5610010893656698e-24\n",
            "2.0104368468251717e-24\n",
            "-8.188400673023937e-25\n",
            "-1.8625656860012293e-24\n",
            "-1.561001089365631e-24\n",
            "-1.561001089365668e-24\n",
            "-1.5610010893657789e-24\n",
            "Moment 6\n",
            "-1.5354005230559659e-15\n",
            "-2.4487625773564024e-15\n",
            "-3.4079879511150875e-16\n",
            "-1.5925029128890974e-15\n",
            "-1.5354005230559519e-15\n",
            "-1.535400523055944e-15\n",
            "-1.5354005230559736e-15\n",
            "Moment 7\n",
            "-3.0660807966657443e-24\n",
            "-1.0996808392712596e-23\n",
            "-1.002641422520992e-24\n",
            "-3.2844764302509543e-24\n",
            "3.0660807966660103e-24\n",
            "3.066080796665822e-24\n",
            "-3.066080796665741e-24\n"
          ]
        },
        {
          "output_type": "display_data",
          "data": {
            "text/plain": [
              "<PIL.Image.Image image mode=L size=40x65 at 0x7F2C00183490>"
            ],
            "image/png": "[encoded data removed]"
          },
          "metadata": {}
        },
        {
          "output_type": "display_data",
          "data": {
            "text/plain": [
              "<PIL.Image.Image image mode=L size=40x65 at 0x7F2C00183410>"
            ],
            "image/png": "[encoded data removed]"
          },
          "metadata": {}
        },
        {
          "output_type": "display_data",
          "data": {
            "text/plain": [
              "<PIL.Image.Image image mode=L size=40x65 at 0x7F2C00183510>"
            ],
            "image/png": "[encoded data removed]"
          },
          "metadata": {}
        },
        {
          "output_type": "display_data",
          "data": {
            "text/plain": [
              "<PIL.Image.Image image mode=L size=80x130 at 0x7F2C00183490>"
            ],
            "image/png": "[encoded data removed]"
          },
          "metadata": {}
        },
        {
          "output_type": "stream",
          "name": "stdout",
          "text": [
            "Moment 1\n",
            "0.001457774990228723\n",
            "0.0014183344633272594\n",
            "0.001443578451627183\n",
            "0.0013984777375762906\n",
            "0.001457774990228723\n",
            "0.001457774990228723\n",
            "0.001457774990228723\n",
            "Moment 2\n",
            "3.32814785776296e-07\n",
            "3.245987986300399e-07\n",
            "3.4986625285597e-07\n",
            "3.04982125438033e-07\n",
            "3.32814785776296e-07\n",
            "3.32814785776296e-07\n",
            "3.32814785776296e-07\n",
            "Moment 3\n",
            "5.899131905329062e-12\n",
            "2.4158092992319127e-12\n",
            "7.324153385957323e-12\n",
            "5.175384676022031e-12\n",
            "5.8991319053290424e-12\n",
            "5.899131905329181e-12\n",
            "5.899131905329124e-12\n",
            "Moment 4\n",
            "4.163255430541873e-12\n",
            "3.5899140719758514e-12\n",
            "9.70817885061958e-12\n",
            "3.5965565037277724e-12\n",
            "4.163255430541913e-12\n",
            "4.163255430541849e-12\n",
            "4.1632554305419715e-12\n",
            "Moment 5\n",
            "1.449444955932989e-23\n",
            "9.989093123661127e-24\n",
            "1.480762765814211e-23\n",
            "1.5440744557604855e-23\n",
            "1.4494449559329845e-23\n",
            "1.4494449559330562e-23\n",
            "1.4494449559330432e-23\n",
            "Moment 6\n",
            "2.175915169157478e-15\n",
            "1.140054513271954e-15\n",
            "-1.6670622109339568e-15\n",
            "9.505218058852135e-16\n",
            "2.1759151691575006e-15\n",
            "2.1759151691574423e-15\n",
            "2.175915169157514e-15\n",
            "Moment 7\n",
            "-1.4683149692286684e-23\n",
            "-3.461983718916654e-24\n",
            "8.051219989271408e-23\n",
            "1.5342492589596238e-24\n",
            "1.46831496922871e-23\n",
            "1.468314969228606e-23\n",
            "-1.468314969228733e-23\n"
          ]
        },
        {
          "output_type": "display_data",
          "data": {
            "text/plain": [
              "<PIL.Image.Image image mode=L size=45x59 at 0x7F2C0016D450>"
            ],
            "image/png": "[encoded data removed]"
          },
          "metadata": {}
        },
        {
          "output_type": "display_data",
          "data": {
            "text/plain": [
              "<PIL.Image.Image image mode=L size=45x59 at 0x7F2C00168790>"
            ],
            "image/png": "[encoded data removed]"
          },
          "metadata": {}
        },
        {
          "output_type": "display_data",
          "data": {
            "text/plain": [
              "<PIL.Image.Image image mode=L size=45x59 at 0x7F2C001684D0>"
            ],
            "image/png": "[encoded data removed]"
          },
          "metadata": {}
        },
        {
          "output_type": "display_data",
          "data": {
            "text/plain": [
              "<PIL.Image.Image image mode=L size=90x118 at 0x7F2C00168E90>"
            ],
            "image/png": "[encoded data removed]"
          },
          "metadata": {}
        },
        {
          "output_type": "stream",
          "name": "stdout",
          "text": [
            "Moment 1\n",
            "0.0013518828466134588\n",
            "0.001348412493227564\n",
            "0.0013526224847290394\n",
            "0.0013398742213155284\n",
            "0.0013518828466134588\n",
            "0.001351882846613459\n",
            "0.001351882846613459\n",
            "Moment 2\n",
            "1.0836763868988713e-07\n",
            "1.0902951358978249e-07\n",
            "1.0787854802861666e-07\n",
            "1.0063413050593251e-07\n",
            "1.0836763868988713e-07\n",
            "1.0836763868988698e-07\n",
            "1.0836763868988698e-07\n",
            "Moment 3\n",
            "2.869703674864826e-12\n",
            "3.2472752541725562e-12\n",
            "3.776872197377488e-12\n",
            "2.9580242244418926e-12\n",
            "2.8697036748648423e-12\n",
            "2.8697036748648435e-12\n",
            "2.8697036748648928e-12\n",
            "Moment 4\n",
            "1.148051761749496e-12\n",
            "4.1736177764433467e-13\n",
            "6.941095321701306e-13\n",
            "2.8882617625344753e-13\n",
            "1.1480517617495012e-12\n",
            "1.148051761749512e-12\n",
            "1.1480517617495274e-12\n",
            "Moment 5\n",
            "1.787979010076058e-24\n",
            "4.576110510954212e-25\n",
            "-2.765804355703205e-25\n",
            "-5.058015254152808e-26\n",
            "1.787979010076064e-24\n",
            "1.787979010076118e-24\n",
            "1.7879790100761366e-24\n",
            "Moment 6\n",
            "-3.4236813233256587e-16\n",
            "-1.373703677056197e-16\n",
            "-1.6483956485941672e-16\n",
            "-3.1727385841896174e-17\n",
            "-3.4236813233256415e-16\n",
            "-3.4236813233257386e-16\n",
            "-3.4236813233256967e-16\n",
            "Moment 7\n",
            "-1.0702557781584373e-24\n",
            "-1.633125807424269e-25\n",
            "-1.0892846121264355e-24\n",
            "-2.6213051380864106e-25\n",
            "1.0702557781584656e-24\n",
            "1.0702557781584349e-24\n",
            "-1.0702557781585192e-24\n"
          ]
        },
        {
          "output_type": "display_data",
          "data": {
            "text/plain": [
              "<PIL.Image.Image image mode=L size=43x57 at 0x7F2C0015FE50>"
            ],
            "image/png": "[encoded data removed]"
          },
          "metadata": {}
        },
        {
          "output_type": "display_data",
          "data": {
            "text/plain": [
              "<PIL.Image.Image image mode=L size=43x57 at 0x7F2C0015FC50>"
            ],
            "image/png": "[encoded data removed]"
          },
          "metadata": {}
        },
        {
          "output_type": "display_data",
          "data": {
            "text/plain": [
              "<PIL.Image.Image image mode=L size=43x57 at 0x7F2C0015FB90>"
            ],
            "image/png": "[encoded data removed]"
          },
          "metadata": {}
        },
        {
          "output_type": "display_data",
          "data": {
            "text/plain": [
              "<PIL.Image.Image image mode=L size=86x114 at 0x7F2C0015F8D0>"
            ],
            "image/png": "[encoded data removed]"
          },
          "metadata": {}
        },
        {
          "output_type": "stream",
          "name": "stdout",
          "text": [
            "Moment 1\n",
            "0.0010278008203391568\n",
            "0.0010369972425002749\n",
            "0.0010187676347948142\n",
            "0.0010414375795137747\n",
            "0.0010278008203391568\n",
            "0.001027800820339157\n",
            "0.001027800820339157\n",
            "Moment 2\n",
            "6.907354350808247e-08\n",
            "7.049590974933632e-08\n",
            "7.393864592708432e-08\n",
            "6.872138358967804e-08\n",
            "6.907354350808247e-08\n",
            "6.90735435080824e-08\n",
            "6.90735435080824e-08\n",
            "Moment 3\n",
            "7.536681483714692e-13\n",
            "7.531053348960494e-13\n",
            "7.980685859502565e-13\n",
            "8.783939004248093e-13\n",
            "7.536681483714122e-13\n",
            "7.536681483714676e-13\n",
            "7.536681483714511e-13\n",
            "Moment 4\n",
            "6.30211194750875e-14\n",
            "1.3347159480164965e-14\n",
            "4.755628890930648e-13\n",
            "3.955539093617595e-14\n",
            "6.302111947508449e-14\n",
            "6.302111947508743e-14\n",
            "6.302111947508827e-14\n",
            "Moment 5\n",
            "-1.260151816074528e-26\n",
            "-5.4828410191250165e-28\n",
            "-2.578610112931658e-25\n",
            "-7.372818042376035e-27\n",
            "-1.2601518160743005e-26\n",
            "-1.2601518160745397e-26\n",
            "-1.260151816074453e-26\n",
            "Moment 6\n",
            "-1.6282004378350304e-17\n",
            "-2.0591623094166437e-18\n",
            "-1.2719299072013128e-16\n",
            "-1.0346516797065241e-17\n",
            "-1.6282004378349053e-17\n",
            "-1.6282004378350316e-17\n",
            "-1.6282004378350042e-17\n",
            "Moment 7\n",
            "-5.462946796538242e-27\n",
            "-1.2206892450997747e-27\n",
            "-1.390778006253005e-25\n",
            "7.015757200084094e-29\n",
            "5.462946796539708e-27\n",
            "5.462946796537862e-27\n",
            "-5.4629467965401934e-27\n"
          ]
        },
        {
          "output_type": "display_data",
          "data": {
            "text/plain": [
              "<PIL.Image.Image image mode=L size=34x61 at 0x7F2C00183F90>"
            ],
            "image/png": "[encoded data removed]"
          },
          "metadata": {}
        },
        {
          "output_type": "display_data",
          "data": {
            "text/plain": [
              "<PIL.Image.Image image mode=L size=34x61 at 0x7F2C0015F990>"
            ],
            "image/png": "[encoded data removed]"
          },
          "metadata": {}
        },
        {
          "output_type": "display_data",
          "data": {
            "text/plain": [
              "<PIL.Image.Image image mode=L size=34x61 at 0x7F2C0015F8D0>"
            ],
            "image/png": "[encoded data removed]"
          },
          "metadata": {}
        },
        {
          "output_type": "display_data",
          "data": {
            "text/plain": [
              "<PIL.Image.Image image mode=L size=68x122 at 0x7F2C0015F910>"
            ],
            "image/png": "[encoded data removed]"
          },
          "metadata": {}
        },
        {
          "output_type": "stream",
          "name": "stdout",
          "text": [
            "Moment 1\n",
            "0.001243280206016929\n",
            "0.0012580936668274089\n",
            "0.0012487487396599987\n",
            "0.0012532996146694829\n",
            "0.001243280206016929\n",
            "0.001243280206016929\n",
            "0.001243280206016929\n",
            "Moment 2\n",
            "4.266338306355475e-07\n",
            "4.4141029375584544e-07\n",
            "4.1948605515592674e-07\n",
            "4.322397499762211e-07\n",
            "4.266338306355475e-07\n",
            "4.266338306355475e-07\n",
            "4.266338306355475e-07\n",
            "Moment 3\n",
            "7.740180455160646e-14\n",
            "9.957969294040652e-13\n",
            "1.0241953210301677e-12\n",
            "9.688740734755458e-14\n",
            "7.740180455159226e-14\n",
            "7.740180455162485e-14\n",
            "7.740180455161069e-14\n",
            "Moment 4\n",
            "7.709555289195932e-13\n",
            "7.18462588010596e-13\n",
            "3.5974258339958494e-13\n",
            "8.397196961593602e-13\n",
            "7.709555289196024e-13\n",
            "7.709555289195935e-13\n",
            "7.709555289196028e-13\n",
            "Moment 5\n",
            "-1.8831115216962678e-25\n",
            "-5.709877706057372e-25\n",
            "2.179539418102019e-25\n",
            "-2.3907778862980133e-25\n",
            "-1.8831115216961294e-25\n",
            "-1.8831115216964926e-25\n",
            "-1.8831115216963546e-25\n",
            "Moment 6\n",
            "-1.5691737222624517e-16\n",
            "-3.1887338306965793e-16\n",
            "1.494083617774596e-16\n",
            "-1.786518631778626e-16\n",
            "-1.569173722262392e-16\n",
            "-1.5691737222626137e-16\n",
            "-1.5691737222625545e-16\n",
            "Moment 7\n",
            "2.665215660510937e-27\n",
            "-2.0802962492301977e-25\n",
            "1.336055003928388e-26\n",
            "-1.4487794198809827e-26\n",
            "-2.6652156605098236e-27\n",
            "-2.665215660511029e-27\n",
            "2.665215660509904e-27\n"
          ]
        },
        {
          "output_type": "display_data",
          "data": {
            "text/plain": [
              "<PIL.Image.Image image mode=L size=47x66 at 0x7F2C0015F910>"
            ],
            "image/png": "[encoded data removed]"
          },
          "metadata": {}
        },
        {
          "output_type": "display_data",
          "data": {
            "text/plain": [
              "<PIL.Image.Image image mode=L size=47x66 at 0x7F2C00168BD0>"
            ],
            "image/png": "[encoded data removed]"
          },
          "metadata": {}
        },
        {
          "output_type": "display_data",
          "data": {
            "text/plain": [
              "<PIL.Image.Image image mode=L size=47x66 at 0x7F2C001681D0>"
            ],
            "image/png": "[encoded data removed]"
          },
          "metadata": {}
        },
        {
          "output_type": "display_data",
          "data": {
            "text/plain": [
              "<PIL.Image.Image image mode=L size=94x132 at 0x7F2C001689D0>"
            ],
            "image/png": "[encoded data removed]"
          },
          "metadata": {}
        },
        {
          "output_type": "stream",
          "name": "stdout",
          "text": [
            "Moment 1\n",
            "0.0017549028435104783\n",
            "0.0017125393679899951\n",
            "0.0017266995798642173\n",
            "0.00169855015707922\n",
            "0.0017549028435104783\n",
            "0.0017549028435104783\n",
            "0.0017549028435104783\n",
            "Moment 2\n",
            "1.9264965900052974e-07\n",
            "1.9577209346337677e-07\n",
            "2.1966052464643375e-07\n",
            "1.773945957413824e-07\n",
            "1.9264965900052971e-07\n",
            "1.9264965900052971e-07\n",
            "1.9264965900052974e-07\n",
            "Moment 3\n",
            "9.917800435905157e-12\n",
            "5.14684574155032e-12\n",
            "9.076710655425431e-12\n",
            "1.0355440334569448e-11\n",
            "9.917800435904968e-12\n",
            "9.917800435904369e-12\n",
            "9.917800435904366e-12\n",
            "Moment 4\n",
            "1.5485141952467646e-11\n",
            "1.2011366319763934e-11\n",
            "4.434893423892875e-11\n",
            "1.4638584667610626e-11\n",
            "1.548514195246758e-11\n",
            "1.5485141952467604e-11\n",
            "1.548514195246757e-11\n",
            "Moment 5\n",
            "1.6020963630745135e-22\n",
            "9.170778989636096e-23\n",
            "-8.831514457340807e-23\n",
            "1.801654340333056e-22\n",
            "1.6020963630744874e-22\n",
            "1.6020963630744312e-22\n",
            "1.6020963630744314e-22\n",
            "Moment 6\n",
            "5.2416463713281745e-15\n",
            "1.6149701467804134e-15\n",
            "-1.0826091432006232e-14\n",
            "2.843845666418196e-15\n",
            "5.2416463713281784e-15\n",
            "5.2416463713282005e-15\n",
            "5.241646371328177e-15\n",
            "Moment 7\n",
            "-1.0563812854602289e-22\n",
            "-2.2554976369931408e-23\n",
            "8.853994422772251e-22\n",
            "-4.913482310046632e-24\n",
            "1.0563812854602145e-22\n",
            "1.0563812854602021e-22\n",
            "-1.0563812854601886e-22\n"
          ]
        },
        {
          "output_type": "display_data",
          "data": {
            "text/plain": [
              "<PIL.Image.Image image mode=L size=37x57 at 0x7F2C0017B850>"
            ],
            "image/png": "[encoded data removed]"
          },
          "metadata": {}
        },
        {
          "output_type": "display_data",
          "data": {
            "text/plain": [
              "<PIL.Image.Image image mode=L size=37x57 at 0x7F2C0017B750>"
            ],
            "image/png": "[encoded data removed]"
          },
          "metadata": {}
        },
        {
          "output_type": "display_data",
          "data": {
            "text/plain": [
              "<PIL.Image.Image image mode=L size=37x57 at 0x7F2C0017B9D0>"
            ],
            "image/png": "[encoded data removed]"
          },
          "metadata": {}
        },
        {
          "output_type": "display_data",
          "data": {
            "text/plain": [
              "<PIL.Image.Image image mode=L size=74x114 at 0x7F2C0017B9D0>"
            ],
            "image/png": "[encoded data removed]"
          },
          "metadata": {}
        },
        {
          "output_type": "stream",
          "name": "stdout",
          "text": [
            "Moment 1\n",
            "0.0011333090180029068\n",
            "0.001150784643857543\n",
            "0.0011284125812506594\n",
            "0.0011465285538355737\n",
            "0.0011333090180029063\n",
            "0.0011333090180029068\n",
            "0.0011333090180029063\n",
            "Moment 2\n",
            "1.9935390845750582e-07\n",
            "2.0798441463999465e-07\n",
            "2.0380089679023037e-07\n",
            "2.0219591413496006e-07\n",
            "1.9935390845750545e-07\n",
            "1.9935390845750582e-07\n",
            "1.9935390845750545e-07\n",
            "Moment 3\n",
            "1.0769741598647861e-12\n",
            "1.0962723554584595e-12\n",
            "1.611262272895251e-12\n",
            "1.3481875863962872e-12\n",
            "1.0769741598648713e-12\n",
            "1.0769741598649677e-12\n",
            "1.0769741598648901e-12\n",
            "Moment 4\n",
            "5.919523971805324e-16\n",
            "2.3278643515972017e-14\n",
            "3.3079077295449987e-13\n",
            "8.744995374266303e-15\n",
            "5.919523971797477e-16\n",
            "5.919523971790315e-16\n",
            "5.919523971795994e-16\n",
            "Moment 5\n",
            "1.4594998752317136e-29\n",
            "-3.43389160637051e-27\n",
            "-2.2280232555122697e-25\n",
            "-9.145701857403743e-28\n",
            "1.459499875229145e-29\n",
            "1.4594998752263702e-29\n",
            "1.4594998752285943e-29\n",
            "Moment 6\n",
            "-2.5727217762571935e-19\n",
            "-3.3867813945164296e-19\n",
            "-1.476804202091565e-16\n",
            "2.623346894012655e-18\n",
            "-2.57272177625414e-19\n",
            "-2.5727217762507893e-19\n",
            "-2.572721776253477e-19\n",
            "Moment 7\n",
            "-3.221333859676539e-30\n",
            "-1.427378915958747e-27\n",
            "-9.316821724857394e-26\n",
            "2.553289558738149e-28\n",
            "3.221333859657761e-30\n",
            "3.221333859660735e-30\n",
            "-3.221333859657262e-30\n"
          ]
        },
        {
          "output_type": "display_data",
          "data": {
            "text/plain": [
              "<PIL.Image.Image image mode=L size=44x61 at 0x7F2C00160510>"
            ],
            "image/png": "[encoded data removed]"
          },
          "metadata": {}
        },
        {
          "output_type": "display_data",
          "data": {
            "text/plain": [
              "<PIL.Image.Image image mode=L size=44x61 at 0x7F2C00183890>"
            ],
            "image/png": "[encoded data removed]"
          },
          "metadata": {}
        },
        {
          "output_type": "display_data",
          "data": {
            "text/plain": [
              "<PIL.Image.Image image mode=L size=44x61 at 0x7F2C00183590>"
            ],
            "image/png": "[encoded data removed]"
          },
          "metadata": {}
        },
        {
          "output_type": "display_data",
          "data": {
            "text/plain": [
              "<PIL.Image.Image image mode=L size=88x122 at 0x7F2C00183590>"
            ],
            "image/png": "[encoded data removed]"
          },
          "metadata": {}
        },
        {
          "output_type": "stream",
          "name": "stdout",
          "text": [
            "Moment 1\n",
            "0.0016454781134517009\n",
            "0.0016524078232370394\n",
            "0.0016168437299386416\n",
            "0.001642386541261034\n",
            "0.0016454781134517009\n",
            "0.0016454781134517009\n",
            "0.0016454781134517009\n",
            "Moment 2\n",
            "1.5165485227360264e-07\n",
            "1.797529897241653e-07\n",
            "1.7763738754753254e-07\n",
            "1.5550549683334822e-07\n",
            "1.5165485227360264e-07\n",
            "1.5165485227360264e-07\n",
            "1.5165485227360266e-07\n",
            "Moment 3\n",
            "2.8370420393968243e-12\n",
            "1.9489291912184418e-13\n",
            "2.683279483296516e-12\n",
            "5.046093989914649e-12\n",
            "2.8370420393967285e-12\n",
            "2.8370420393965734e-12\n",
            "2.8370420393965456e-12\n",
            "Moment 4\n",
            "4.115445321268734e-12\n",
            "4.824962510816779e-12\n",
            "1.2473025070608237e-11\n",
            "4.487201544742605e-12\n",
            "4.115445321268586e-12\n",
            "4.1154453212688035e-12\n",
            "4.115445321268538e-12\n",
            "Moment 5\n",
            "-2.2838790838745624e-24\n",
            "-4.3838512518242064e-24\n",
            "-6.909289830420214e-23\n",
            "3.077457584076116e-24\n",
            "-2.2838790838755042e-24\n",
            "-2.2838790838751597e-24\n",
            "-2.2838790838753995e-24\n",
            "Moment 6\n",
            "1.5724651921050059e-15\n",
            "1.9238671875927195e-15\n",
            "-3.576062584304599e-15\n",
            "1.7608030246949248e-15\n",
            "1.5724651921049477e-15\n",
            "1.5724651921050264e-15\n",
            "1.5724651921049228e-15\n",
            "Moment 7\n",
            "-1.3875654913422007e-23\n",
            "-1.6350742099549147e-24\n",
            "2.0810960756131247e-23\n",
            "-2.1129182387966925e-23\n",
            "1.3875654913420843e-23\n",
            "1.387565491342164e-23\n",
            "-1.3875654913420153e-23\n"
          ]
        },
        {
          "output_type": "display_data",
          "data": {
            "text/plain": [
              "<PIL.Image.Image image mode=L size=36x66 at 0x7F2C0017B810>"
            ],
            "image/png": "[encoded data removed]"
          },
          "metadata": {}
        },
        {
          "output_type": "display_data",
          "data": {
            "text/plain": [
              "<PIL.Image.Image image mode=L size=36x66 at 0x7F2C00168F10>"
            ],
            "image/png": "[encoded data removed]"
          },
          "metadata": {}
        },
        {
          "output_type": "display_data",
          "data": {
            "text/plain": [
              "<PIL.Image.Image image mode=L size=36x66 at 0x7F2C00168350>"
            ],
            "image/png": "[encoded data removed]"
          },
          "metadata": {}
        },
        {
          "output_type": "display_data",
          "data": {
            "text/plain": [
              "<PIL.Image.Image image mode=L size=72x132 at 0x7F2C00168C10>"
            ],
            "image/png": "[encoded data removed]"
          },
          "metadata": {}
        },
        {
          "output_type": "stream",
          "name": "stdout",
          "text": [
            "Moment 1\n",
            "0.0012837506225820516\n",
            "0.0012582741381612938\n",
            "0.001275161845223673\n",
            "0.0012694452628929582\n",
            "0.0012837506225820516\n",
            "0.0012837506225820516\n",
            "0.0012837506225820516\n",
            "Moment 2\n",
            "3.862895244852196e-07\n",
            "3.778574166192347e-07\n",
            "3.972457550172294e-07\n",
            "3.746711888504597e-07\n",
            "3.862895244852196e-07\n",
            "3.862895244852196e-07\n",
            "3.862895244852196e-07\n",
            "Moment 3\n",
            "1.600517045238866e-12\n",
            "7.307381829977552e-13\n",
            "1.7908832254401281e-12\n",
            "1.8486020454012526e-12\n",
            "1.6005170452388769e-12\n",
            "1.600517045238774e-12\n",
            "1.6005170452387908e-12\n",
            "Moment 4\n",
            "1.2534315757586625e-12\n",
            "1.3763501845352098e-12\n",
            "3.5755371720223585e-12\n",
            "1.1754985092340473e-12\n",
            "1.2534315757587263e-12\n",
            "1.2534315757586716e-12\n",
            "1.2534315757587174e-12\n",
            "Moment 5\n",
            "1.6715580455408054e-24\n",
            "1.3617447167621706e-24\n",
            "-1.1850881150185891e-24\n",
            "1.5179338261683864e-24\n",
            "1.6715580455409432e-24\n",
            "1.671558045540768e-24\n",
            "1.671558045540891e-24\n",
            "Moment 6\n",
            "5.614825203180934e-16\n",
            "3.5352439575569697e-16\n",
            "-1.07575116584487e-15\n",
            "1.176198074739425e-16\n",
            "5.6148252031813325e-16\n",
            "5.614825203180993e-16\n",
            "5.614825203181271e-16\n",
            "Moment 7\n",
            "-5.980965066592309e-25\n",
            "2.255808155687408e-25\n",
            "8.969906733644099e-24\n",
            "8.357997533568654e-25\n",
            "5.980965066592657e-25\n",
            "5.980965066592407e-25\n",
            "-5.980965066592144e-25\n"
          ]
        },
        {
          "output_type": "display_data",
          "data": {
            "text/plain": [
              "<PIL.Image.Image image mode=L size=47x68 at 0x7F2C0017B690>"
            ],
            "image/png": "[encoded data removed]"
          },
          "metadata": {}
        },
        {
          "output_type": "display_data",
          "data": {
            "text/plain": [
              "<PIL.Image.Image image mode=L size=47x68 at 0x7F2C00183B10>"
            ],
            "image/png": "[encoded data removed]"
          },
          "metadata": {}
        },
        {
          "output_type": "display_data",
          "data": {
            "text/plain": [
              "<PIL.Image.Image image mode=L size=47x68 at 0x7F2C00183BD0>"
            ],
            "image/png": "[encoded data removed]"
          },
          "metadata": {}
        },
        {
          "output_type": "display_data",
          "data": {
            "text/plain": [
              "<PIL.Image.Image image mode=L size=94x136 at 0x7F2C00183810>"
            ],
            "image/png": "[encoded data removed]"
          },
          "metadata": {}
        },
        {
          "output_type": "stream",
          "name": "stdout",
          "text": [
            "Moment 1\n",
            "0.0016638254387379842\n",
            "0.0016529536909835657\n",
            "0.0016408018025947098\n",
            "0.0016550282607501964\n",
            "0.0016638254387379837\n",
            "0.0016638254387379842\n",
            "0.0016638254387379837\n",
            "Moment 2\n",
            "2.423620053514933e-07\n",
            "2.508544463526857e-07\n",
            "2.665535921017697e-07\n",
            "2.3957850486832895e-07\n",
            "2.4236200535149287e-07\n",
            "2.423620053514933e-07\n",
            "2.4236200535149287e-07\n",
            "Moment 3\n",
            "1.5034159208838967e-11\n",
            "7.735330340785164e-12\n",
            "2.0534621530952528e-11\n",
            "1.4675755221249982e-11\n",
            "1.503415920883922e-11\n",
            "1.5034159208839057e-11\n",
            "1.503415920883916e-11\n",
            "Moment 4\n",
            "1.4546492273858193e-11\n",
            "1.091525800217393e-11\n",
            "3.829009301193727e-11\n",
            "1.3267496728843446e-11\n",
            "1.4546492273857902e-11\n",
            "1.4546492273858413e-11\n",
            "1.4546492273858041e-11\n",
            "Moment 5\n",
            "2.1511811610735e-22\n",
            "9.521162784847295e-23\n",
            "-1.678091164582639e-22\n",
            "1.8513125138754317e-22\n",
            "2.1511811610734536e-22\n",
            "2.151181161073555e-22\n",
            "2.1511811610734804e-22\n",
            "Moment 6\n",
            "4.041131192605297e-15\n",
            "2.870028468593361e-15\n",
            "-1.0140127962689961e-14\n",
            "3.5774132126087655e-15\n",
            "4.041131192605091e-15\n",
            "4.041131192605233e-15\n",
            "4.041131192605028e-15\n",
            "Moment 7\n",
            "4.009262533565774e-26\n",
            "-3.153331331836391e-23\n",
            "1.0604804866773492e-21\n",
            "7.92270957615471e-25\n",
            "-4.009262533620434e-26\n",
            "-4.0092625340665344e-26\n",
            "4.0092625342169977e-26\n"
          ]
        },
        {
          "output_type": "display_data",
          "data": {
            "text/plain": [
              "<PIL.Image.Image image mode=L size=38x56 at 0x7F2C0016D550>"
            ],
            "image/png": "[encoded data removed]"
          },
          "metadata": {}
        },
        {
          "output_type": "display_data",
          "data": {
            "text/plain": [
              "<PIL.Image.Image image mode=L size=38x56 at 0x7F2C0017B150>"
            ],
            "image/png": "[encoded data removed]"
          },
          "metadata": {}
        },
        {
          "output_type": "display_data",
          "data": {
            "text/plain": [
              "<PIL.Image.Image image mode=L size=38x56 at 0x7F2C0017B190>"
            ],
            "image/png": "[encoded data removed]"
          },
          "metadata": {}
        },
        {
          "output_type": "display_data",
          "data": {
            "text/plain": [
              "<PIL.Image.Image image mode=L size=76x112 at 0x7F2C0017BED0>"
            ],
            "image/png": "[encoded data removed]"
          },
          "metadata": {}
        },
        {
          "output_type": "stream",
          "name": "stdout",
          "text": [
            "Moment 1\n",
            "0.0014263092638778054\n",
            "0.001432901966622448\n",
            "0.0014250686716474077\n",
            "0.0014345995107891375\n",
            "0.0014263092638778054\n",
            "0.0014263092638778054\n",
            "0.0014263092638778054\n",
            "Moment 2\n",
            "1.7195411127869482e-07\n",
            "1.7353662560455636e-07\n",
            "1.7217102166016222e-07\n",
            "1.741272339727787e-07\n",
            "1.7195411127869482e-07\n",
            "1.7195411127869482e-07\n",
            "1.7195411127869487e-07\n",
            "Moment 3\n",
            "8.668322447339059e-12\n",
            "2.688624201567537e-12\n",
            "2.5047803148688538e-12\n",
            "8.835714035829139e-12\n",
            "8.668322447338912e-12\n",
            "8.668322447338755e-12\n",
            "8.66832244733885e-12\n",
            "Moment 4\n",
            "9.088386988450023e-12\n",
            "1.3517659146951754e-11\n",
            "1.166398622086247e-11\n",
            "8.365107051806658e-12\n",
            "9.08838698844979e-12\n",
            "9.088386988449952e-12\n",
            "9.088386988449872e-12\n",
            "Moment 5\n",
            "-6.199177909400924e-23\n",
            "-7.91064575591437e-23\n",
            "5.853119821886259e-23\n",
            "-4.7878302617041435e-23\n",
            "-6.19917790940078e-23\n",
            "-6.19917790940067e-23\n",
            "-6.199177909400829e-23\n",
            "Moment 6\n",
            "3.171885496393525e-15\n",
            "4.9246619831788754e-15\n",
            "2.2619571066424596e-15\n",
            "3.1554596779418712e-15\n",
            "3.171885496393417e-15\n",
            "3.17188549639351e-15\n",
            "3.1718854963934754e-15\n",
            "Moment 7\n",
            "-5.161627023519442e-23\n",
            "1.9575115660153606e-23\n",
            "-2.342768265758279e-23\n",
            "-5.36622781206729e-23\n",
            "5.1616270235190217e-23\n",
            "5.1616270235193796e-23\n",
            "-5.1616270235190946e-23\n"
          ]
        }
      ]
    },
    {
      "cell_type": "code",
      "metadata": {
        "id": "TFLa-WeGQMmH"
      },
      "source": [
        "import numpy as np\n",
        "import cv2 as cv"
      ],
      "execution_count": 14,
      "outputs": []
    },
    {
      "cell_type": "code",
      "metadata": {
        "id": "cb5EROfsO9kj"
      },
      "source": [
        "svm = cv.ml.SVM_create()\n",
        "\n",
        "#set SVM params\n",
        "svm.setType(cv.ml.SVM_C_SVC)\n",
        "svm.setKernel(cv.ml.SVM_LINEAR)\n",
        "svm.setTermCriteria((cv.TERM_CRITERIA_MAX_ITER, 100, 1e-6))"
      ],
      "execution_count": 15,
      "outputs": []
    },
    {
      "cell_type": "code",
      "metadata": {
        "id": "DRDtEFw80tx-"
      },
      "source": [
        "# scale an input array-like to a mininum and maximum number\n",
        "# the input array must be of a floating point array\n",
        "# if you have a non-floating point array, convert to floating using `astype('float')`\n",
        "# this works with n-dimensional arrays\n",
        "# it will mutate in place\n",
        "# min and max can be integers\n",
        "def scale_range (input, min, max):\n",
        "    input += -(np.min(input))\n",
        "    input /= np.max(input) / (max - min)\n",
        "    input += min\n",
        "    return input"
      ],
      "execution_count": 16,
      "outputs": []
    },
    {
      "cell_type": "markdown",
      "metadata": {
        "id": "gD_4Mx4aP10C"
      },
      "source": [
        "### Train&Test SVM with Fourier Descriptors"
      ]
    },
    {
      "cell_type": "code",
      "metadata": {
        "id": "ajOkFYJVFlS7"
      },
      "source": [
        "#features extraction FD\n",
        "NUM_DESCRIPTORS = 18\n",
        "global_features = []\n",
        "for img in images:\n",
        "  fd = findDescriptor(img) \n",
        "  descriptors = truncate_descriptor(fd, NUM_DESCRIPTORS)\n",
        "  descriptors = scale_range(descriptors, 0, 1)\n",
        "  global_feature = np.hstack([descriptors.real, descriptors.imag])\n",
        "  global_features.append(global_feature)"
      ],
      "execution_count": 17,
      "outputs": []
    },
    {
      "cell_type": "code",
      "metadata": {
        "colab": {
          "base_uri": "https://localhost:8080/"
        },
        "id": "Owk4aPXKP918",
        "outputId": "80a44233-ff06-41f7-b341-57fc1dd00839"
      },
      "source": [
        "#set up training data\n",
        "class_labels = np.array(labels)\n",
        "trainingData = np.matrix(global_features,dtype=np.float32)\n",
        "print(class_labels.shape)\n",
        "print(trainingData.shape)"
      ],
      "execution_count": 18,
      "outputs": [
        {
          "output_type": "stream",
          "name": "stdout",
          "text": [
            "(22,)\n",
            "(22, 36)\n"
          ]
        }
      ]
    },
    {
      "cell_type": "code",
      "metadata": {
        "colab": {
          "base_uri": "https://localhost:8080/"
        },
        "id": "tZC6no9zQgAr",
        "outputId": "2d252b04-e12f-4cc6-e573-87ac1cc52113"
      },
      "source": [
        "# Train the linear SVM\n",
        "svm.train(trainingData, cv.ml.ROW_SAMPLE, class_labels)"
      ],
      "execution_count": 20,
      "outputs": [
        {
          "output_type": "execute_result",
          "data": {
            "text/plain": [
              "True"
            ]
          },
          "metadata": {},
          "execution_count": 20
        }
      ]
    },
    {
      "cell_type": "code",
      "metadata": {
        "id": "3j-JcZ0bQzUX",
        "colab": {
          "base_uri": "https://localhost:8080/",
          "height": 127
        },
        "outputId": "c025285b-5ee5-46cd-c93e-2c93161f4cd6"
      },
      "source": [
        "img = images[5]\n",
        "\n",
        "#find descriptors\n",
        "descriptors = findDescriptor(img)\n",
        "\n",
        "#truncate descriptor\n",
        "print(len(descriptors))\n",
        "descriptors = truncate_descriptor(descriptors, NUM_DESCRIPTORS)\n",
        "\n",
        "#scale to [0, 1] range the truncated descriptor\n",
        "fd_img = scale_range(descriptors, 0, 1)\n",
        "\n",
        "#create input to SVM (fd_imag is the scaled truncated descriptor)\n",
        "FD_feature = np.hstack([fd_img.real, fd_img.imag])\n",
        "testData = np.matrix(FD_feature, dtype=np.float32)\n",
        "\n",
        "#feed testData input to SVM\n",
        "_, response = svm.predict(testData)\n",
        "\n",
        "cv2_imshow(img)\n",
        "print(\"Label: A\")\n",
        "print(\"Prediction: \" + chr(65+response))"
      ],
      "execution_count": 23,
      "outputs": [
        {
          "output_type": "stream",
          "name": "stdout",
          "text": [
            "172\n"
          ]
        },
        {
          "output_type": "display_data",
          "data": {
            "text/plain": [
              "<PIL.Image.Image image mode=L size=43x58 at 0x7F2C001C3650>"
            ],
            "image/png": "[encoded data removed]"
          },
          "metadata": {}
        },
        {
          "output_type": "stream",
          "name": "stdout",
          "text": [
            "Label: A\n",
            "Prediction: A\n"
          ]
        }
      ]
    },
    {
      "cell_type": "markdown",
      "metadata": {
        "id": "Ke58psv4RGju"
      },
      "source": [
        "### Train&Test SVM with Hu Moments"
      ]
    },
    {
      "cell_type": "code",
      "metadata": {
        "id": "UJ2qGmnRzn5a"
      },
      "source": [
        "#feature extraction of Hu moments for each image, result is a list of lists (global_features)\n",
        "global_features = []\n",
        "for image in images:\n",
        "  hu_mom = fd_hu_moments(image)\n",
        "  global_features.append(hu_mom)"
      ],
      "execution_count": 24,
      "outputs": []
    },
    {
      "cell_type": "code",
      "metadata": {
        "id": "6WJG-D7sRRZz",
        "colab": {
          "base_uri": "https://localhost:8080/"
        },
        "outputId": "23afc8f0-59ce-4563-f285-f0d0b2150999"
      },
      "source": [
        "#set up labels & training data\n",
        "class_labels = np.array(labels)\n",
        "trainingData = np.matrix(global_features,dtype=np.float32)\n",
        "print(class_labels.shape)\n",
        "print(trainingData.shape)"
      ],
      "execution_count": 25,
      "outputs": [
        {
          "output_type": "stream",
          "name": "stdout",
          "text": [
            "(22,)\n",
            "(22, 7)\n"
          ]
        }
      ]
    },
    {
      "cell_type": "code",
      "metadata": {
        "id": "zkdQ6dIfRSMT",
        "colab": {
          "base_uri": "https://localhost:8080/"
        },
        "outputId": "6f531fb5-93b5-41f1-884a-af408a43270f"
      },
      "source": [
        "#Train the SVM with the new training data (Hu moments)\n",
        "svm.train(trainingData, cv.ml.ROW_SAMPLE, class_labels)"
      ],
      "execution_count": 26,
      "outputs": [
        {
          "output_type": "execute_result",
          "data": {
            "text/plain": [
              "True"
            ]
          },
          "metadata": {},
          "execution_count": 26
        }
      ]
    },
    {
      "cell_type": "code",
      "metadata": {
        "id": "JEZpIo9aRVKX",
        "colab": {
          "base_uri": "https://localhost:8080/",
          "height": 110
        },
        "outputId": "488c213b-b66e-4df2-e975-934d423bf45e"
      },
      "source": [
        "img = images[5]\n",
        "\n",
        "#compute Hu moments\n",
        "hu_mom = fd_hu_moments(img)\n",
        "\n",
        "#scale the Hu moments to [0, 1]\n",
        "fd_img = scale_range(hu_mom, 0, 1)\n",
        "\n",
        "#cast test data to float32 matrix\n",
        "testData = np.matrix(fd_img, dtype=np.float32)\n",
        "\n",
        "\n",
        "#feed data to SVM\n",
        "_, respone = svm.predict(testData)\n",
        "\n",
        "cv2_imshow(img)\n",
        "print(\"Label: A\")\n",
        "print(\"Prediction: \"+chr(65+response))"
      ],
      "execution_count": 28,
      "outputs": [
        {
          "output_type": "display_data",
          "data": {
            "text/plain": [
              "<PIL.Image.Image image mode=L size=43x58 at 0x7F2C0017B4D0>"
            ],
            "image/png": "[encoded data removed]"
          },
          "metadata": {}
        },
        {
          "output_type": "stream",
          "name": "stdout",
          "text": [
            "Label: A\n",
            "Prediction: A\n"
          ]
        }
      ]
    },
    {
      "cell_type": "markdown",
      "metadata": {
        "id": "mRsmw7_lR4kf"
      },
      "source": [
        "### Train&Test with Fourier Descriptors and Hu Moments"
      ]
    },
    {
      "cell_type": "code",
      "metadata": {
        "id": "hiw3l-aKFpy0"
      },
      "source": [
        "#feature extraction FD + Hu Moments for each image\n",
        "NUM_DESCRIPTORS = 18\n",
        "global_features = []\n",
        "for img in images:\n",
        "  fd = findDescriptor(img) \n",
        "  descriptors = truncate_descriptor(fd, NUM_DESCRIPTORS)\n",
        "  descriptors = scale_range(descriptors, 0, 1)\n",
        "  global_feature = np.hstack([descriptors.real, descriptors.imag])\n",
        "  fd_img = fd_hu_moments(img)\n",
        "  global_features.append(np.append(global_feature, fd_img))"
      ],
      "execution_count": 29,
      "outputs": []
    },
    {
      "cell_type": "code",
      "metadata": {
        "id": "ky3IFfaSSI9l",
        "colab": {
          "base_uri": "https://localhost:8080/"
        },
        "outputId": "c7c8d232-03b0-4193-afaa-04fc77b13b23"
      },
      "source": [
        "#set up training data\n",
        "class_labels = np.array(labels)\n",
        "trainingData = np.matrix(global_features, dtype=np.float32)\n",
        "print(class_labels.shape)\n",
        "print(trainingData.shape)"
      ],
      "execution_count": 30,
      "outputs": [
        {
          "output_type": "stream",
          "name": "stdout",
          "text": [
            "(22,)\n",
            "(22, 43)\n"
          ]
        }
      ]
    },
    {
      "cell_type": "code",
      "metadata": {
        "id": "YF5k7Y0WSOuA",
        "colab": {
          "base_uri": "https://localhost:8080/"
        },
        "outputId": "2198860c-03ed-43df-c98e-a9213fe7c24b"
      },
      "source": [
        "#Train the SVM\n",
        "svm.train(trainingData, cv.ml.ROW_SAMPLE, class_labels)"
      ],
      "execution_count": 31,
      "outputs": [
        {
          "output_type": "execute_result",
          "data": {
            "text/plain": [
              "True"
            ]
          },
          "metadata": {},
          "execution_count": 31
        }
      ]
    },
    {
      "cell_type": "code",
      "metadata": {
        "id": "4yM2d4drSPwz",
        "colab": {
          "base_uri": "https://localhost:8080/",
          "height": 1000
        },
        "outputId": "a49708c2-1494-4fdf-8de3-b9fab388116f"
      },
      "source": [
        "#Test on random image with FD + Hu Moments\n",
        "for i in range(len(images)):\n",
        "  testData = np.matrix(global_features[i], dtype=np.float32)\n",
        "  _, response = svm.predict(testData)\n",
        "  cv2_imshow(images[i])\n",
        "  print(chr(labels[i]+65))\n",
        "  print(\"Prediction: \"+chr(65+response))"
      ],
      "execution_count": 32,
      "outputs": [
        {
          "output_type": "display_data",
          "data": {
            "text/plain": [
              "<PIL.Image.Image image mode=L size=51x56 at 0x7F2C001C38D0>"
            ],
            "image/png": "[encoded data removed]"
          },
          "metadata": {}
        },
        {
          "output_type": "stream",
          "name": "stdout",
          "text": [
            "A\n",
            "Prediction: A\n"
          ]
        },
        {
          "output_type": "display_data",
          "data": {
            "text/plain": [
              "<PIL.Image.Image image mode=L size=43x55 at 0x7F2C0015F2D0>"
            ],
            "image/png": "[encoded data removed]"
          },
          "metadata": {}
        },
        {
          "output_type": "stream",
          "name": "stdout",
          "text": [
            "A\n",
            "Prediction: A\n"
          ]
        },
        {
          "output_type": "display_data",
          "data": {
            "text/plain": [
              "<PIL.Image.Image image mode=L size=35x54 at 0x7F2C001C3350>"
            ],
            "image/png": "[encoded data removed]"
          },
          "metadata": {}
        },
        {
          "output_type": "stream",
          "name": "stdout",
          "text": [
            "A\n",
            "Prediction: A\n"
          ]
        },
        {
          "output_type": "display_data",
          "data": {
            "text/plain": [
              "<PIL.Image.Image image mode=L size=43x64 at 0x7F2C001C3A10>"
            ],
            "image/png": "[encoded data removed]"
          },
          "metadata": {}
        },
        {
          "output_type": "stream",
          "name": "stdout",
          "text": [
            "A\n",
            "Prediction: A\n"
          ]
        },
        {
          "output_type": "display_data",
          "data": {
            "text/plain": [
              "<PIL.Image.Image image mode=L size=40x54 at 0x7F2C0017BB90>"
            ],
            "image/png": "[encoded data removed]"
          },
          "metadata": {}
        },
        {
          "output_type": "stream",
          "name": "stdout",
          "text": [
            "A\n",
            "Prediction: A\n"
          ]
        },
        {
          "output_type": "display_data",
          "data": {
            "text/plain": [
              "<PIL.Image.Image image mode=L size=43x58 at 0x7F2C0017B450>"
            ],
            "image/png": "[encoded data removed]"
          },
          "metadata": {}
        },
        {
          "output_type": "stream",
          "name": "stdout",
          "text": [
            "A\n",
            "Prediction: A\n"
          ]
        },
        {
          "output_type": "display_data",
          "data": {
            "text/plain": [
              "<PIL.Image.Image image mode=L size=31x64 at 0x7F2C0017BFD0>"
            ],
            "image/png": "[encoded data removed]"
          },
          "metadata": {}
        },
        {
          "output_type": "stream",
          "name": "stdout",
          "text": [
            "A\n",
            "Prediction: A\n"
          ]
        },
        {
          "output_type": "display_data",
          "data": {
            "text/plain": [
              "<PIL.Image.Image image mode=L size=42x64 at 0x7F2C0017BAD0>"
            ],
            "image/png": "[encoded data removed]"
          },
          "metadata": {}
        },
        {
          "output_type": "stream",
          "name": "stdout",
          "text": [
            "A\n",
            "Prediction: A\n"
          ]
        },
        {
          "output_type": "display_data",
          "data": {
            "text/plain": [
              "<PIL.Image.Image image mode=L size=34x54 at 0x7F2C0017BDD0>"
            ],
            "image/png": "[encoded data removed]"
          },
          "metadata": {}
        },
        {
          "output_type": "stream",
          "name": "stdout",
          "text": [
            "A\n",
            "Prediction: A\n"
          ]
        },
        {
          "output_type": "display_data",
          "data": {
            "text/plain": [
              "<PIL.Image.Image image mode=L size=40x65 at 0x7F2C0017B3D0>"
            ],
            "image/png": "[encoded data removed]"
          },
          "metadata": {}
        },
        {
          "output_type": "stream",
          "name": "stdout",
          "text": [
            "A\n",
            "Prediction: A\n"
          ]
        },
        {
          "output_type": "display_data",
          "data": {
            "text/plain": [
              "<PIL.Image.Image image mode=L size=31x61 at 0x7F2C0017B090>"
            ],
            "image/png": "[encoded data removed]"
          },
          "metadata": {}
        },
        {
          "output_type": "stream",
          "name": "stdout",
          "text": [
            "A\n",
            "Prediction: A\n"
          ]
        },
        {
          "output_type": "display_data",
          "data": {
            "text/plain": [
              "<PIL.Image.Image image mode=L size=34x62 at 0x7F2C0017B310>"
            ],
            "image/png": "[encoded data removed]"
          },
          "metadata": {}
        },
        {
          "output_type": "stream",
          "name": "stdout",
          "text": [
            "B\n",
            "Prediction: B\n"
          ]
        },
        {
          "output_type": "display_data",
          "data": {
            "text/plain": [
              "<PIL.Image.Image image mode=L size=40x65 at 0x7F2C0017BF90>"
            ],
            "image/png": "[encoded data removed]"
          },
          "metadata": {}
        },
        {
          "output_type": "stream",
          "name": "stdout",
          "text": [
            "B\n",
            "Prediction: B\n"
          ]
        },
        {
          "output_type": "display_data",
          "data": {
            "text/plain": [
              "<PIL.Image.Image image mode=L size=45x59 at 0x7F2C0017B6D0>"
            ],
            "image/png": "[encoded data removed]"
          },
          "metadata": {}
        },
        {
          "output_type": "stream",
          "name": "stdout",
          "text": [
            "B\n",
            "Prediction: B\n"
          ]
        },
        {
          "output_type": "display_data",
          "data": {
            "text/plain": [
              "<PIL.Image.Image image mode=L size=43x57 at 0x7F2C0017B4D0>"
            ],
            "image/png": "[encoded data removed]"
          },
          "metadata": {}
        },
        {
          "output_type": "stream",
          "name": "stdout",
          "text": [
            "B\n",
            "Prediction: B\n"
          ]
        },
        {
          "output_type": "display_data",
          "data": {
            "text/plain": [
              "<PIL.Image.Image image mode=L size=34x61 at 0x7F2C0017BD50>"
            ],
            "image/png": "[encoded data removed]"
          },
          "metadata": {}
        },
        {
          "output_type": "stream",
          "name": "stdout",
          "text": [
            "B\n",
            "Prediction: B\n"
          ]
        },
        {
          "output_type": "display_data",
          "data": {
            "text/plain": [
              "<PIL.Image.Image image mode=L size=47x66 at 0x7F2C0017B590>"
            ],
            "image/png": "[encoded data removed]"
          },
          "metadata": {}
        },
        {
          "output_type": "stream",
          "name": "stdout",
          "text": [
            "B\n",
            "Prediction: B\n"
          ]
        },
        {
          "output_type": "display_data",
          "data": {
            "text/plain": [
              "<PIL.Image.Image image mode=L size=37x57 at 0x7F2C0017BC10>"
            ],
            "image/png": "[encoded data removed]"
          },
          "metadata": {}
        },
        {
          "output_type": "stream",
          "name": "stdout",
          "text": [
            "B\n",
            "Prediction: B\n"
          ]
        },
        {
          "output_type": "display_data",
          "data": {
            "text/plain": [
              "<PIL.Image.Image image mode=L size=44x61 at 0x7F2C0017BE90>"
            ],
            "image/png": "[encoded data removed]"
          },
          "metadata": {}
        },
        {
          "output_type": "stream",
          "name": "stdout",
          "text": [
            "B\n",
            "Prediction: B\n"
          ]
        },
        {
          "output_type": "display_data",
          "data": {
            "text/plain": [
              "<PIL.Image.Image image mode=L size=36x66 at 0x7F2C0017B210>"
            ],
            "image/png": "[encoded data removed]"
          },
          "metadata": {}
        },
        {
          "output_type": "stream",
          "name": "stdout",
          "text": [
            "B\n",
            "Prediction: B\n"
          ]
        },
        {
          "output_type": "display_data",
          "data": {
            "text/plain": [
              "<PIL.Image.Image image mode=L size=47x68 at 0x7F2C0017B1D0>"
            ],
            "image/png": "[encoded data removed]"
          },
          "metadata": {}
        },
        {
          "output_type": "stream",
          "name": "stdout",
          "text": [
            "B\n",
            "Prediction: B\n"
          ]
        },
        {
          "output_type": "display_data",
          "data": {
            "text/plain": [
              "<PIL.Image.Image image mode=L size=38x56 at 0x7F2C0017B690>"
            ],
            "image/png": "[encoded data removed]"
          },
          "metadata": {}
        },
        {
          "output_type": "stream",
          "name": "stdout",
          "text": [
            "B\n",
            "Prediction: B\n"
          ]
        }
      ]
    },
    {
      "cell_type": "code",
      "source": [
        "#complete the training dataset with all uppercase letters, train & test the SVM\n",
        "n = 0\n",
        "for i in range(len(images)):\n",
        "  testData = np.matrix(global_features[i], dtype=np.float32)\n",
        "  _, response = svm.predict(testData)\n",
        "  cv2_imshow(images[i])\n",
        "  print(chr(labels[i]+65))\n",
        "  print(\"Prediction: \"+chr(65+response))\n",
        "  if response == response:\n",
        "    n += 1\n",
        "\n",
        "print('\\n\\nPredictions: ' + str((n/len(labels)) * 100))"
      ],
      "metadata": {
        "id": "Eigxe5PHC-oQ",
        "colab": {
          "base_uri": "https://localhost:8080/",
          "height": 1000
        },
        "outputId": "2b762274-0dd7-4fc7-993f-a4bca4d7855f"
      },
      "execution_count": 34,
      "outputs": [
        {
          "output_type": "display_data",
          "data": {
            "text/plain": [
              "<PIL.Image.Image image mode=L size=51x56 at 0x7F2C00145B10>"
            ],
            "image/png": "[encoded data removed]"
          },
          "metadata": {}
        },
        {
          "output_type": "stream",
          "name": "stdout",
          "text": [
            "A\n",
            "Prediction: A\n"
          ]
        },
        {
          "output_type": "display_data",
          "data": {
            "text/plain": [
              "<PIL.Image.Image image mode=L size=43x55 at 0x7F2C00145C10>"
            ],
            "image/png": "[encoded data removed]"
          },
          "metadata": {}
        },
        {
          "output_type": "stream",
          "name": "stdout",
          "text": [
            "A\n",
            "Prediction: A\n"
          ]
        },
        {
          "output_type": "display_data",
          "data": {
            "text/plain": [
              "<PIL.Image.Image image mode=L size=35x54 at 0x7F2C00145ED0>"
            ],
            "image/png": "[encoded data removed]"
          },
          "metadata": {}
        },
        {
          "output_type": "stream",
          "name": "stdout",
          "text": [
            "A\n",
            "Prediction: A\n"
          ]
        },
        {
          "output_type": "display_data",
          "data": {
            "text/plain": [
              "<PIL.Image.Image image mode=L size=43x64 at 0x7F2C0014F050>"
            ],
            "image/png": "[encoded data removed]"
          },
          "metadata": {}
        },
        {
          "output_type": "stream",
          "name": "stdout",
          "text": [
            "A\n",
            "Prediction: A\n"
          ]
        },
        {
          "output_type": "display_data",
          "data": {
            "text/plain": [
              "<PIL.Image.Image image mode=L size=40x54 at 0x7F2C0014F0D0>"
            ],
            "image/png": "[encoded data removed]"
          },
          "metadata": {}
        },
        {
          "output_type": "stream",
          "name": "stdout",
          "text": [
            "A\n",
            "Prediction: A\n"
          ]
        },
        {
          "output_type": "display_data",
          "data": {
            "text/plain": [
              "<PIL.Image.Image image mode=L size=43x58 at 0x7F2C0014F1D0>"
            ],
            "image/png": "[encoded data removed]"
          },
          "metadata": {}
        },
        {
          "output_type": "stream",
          "name": "stdout",
          "text": [
            "A\n",
            "Prediction: A\n"
          ]
        },
        {
          "output_type": "display_data",
          "data": {
            "text/plain": [
              "<PIL.Image.Image image mode=L size=31x64 at 0x7F2C0014F310>"
            ],
            "image/png": "[encoded data removed]"
          },
          "metadata": {}
        },
        {
          "output_type": "stream",
          "name": "stdout",
          "text": [
            "A\n",
            "Prediction: A\n"
          ]
        },
        {
          "output_type": "display_data",
          "data": {
            "text/plain": [
              "<PIL.Image.Image image mode=L size=42x64 at 0x7F2C0014F350>"
            ],
            "image/png": "[encoded data removed]"
          },
          "metadata": {}
        },
        {
          "output_type": "stream",
          "name": "stdout",
          "text": [
            "A\n",
            "Prediction: A\n"
          ]
        },
        {
          "output_type": "display_data",
          "data": {
            "text/plain": [
              "<PIL.Image.Image image mode=L size=34x54 at 0x7F2C0014F2D0>"
            ],
            "image/png": "[encoded data removed]"
          },
          "metadata": {}
        },
        {
          "output_type": "stream",
          "name": "stdout",
          "text": [
            "A\n",
            "Prediction: A\n"
          ]
        },
        {
          "output_type": "display_data",
          "data": {
            "text/plain": [
              "<PIL.Image.Image image mode=L size=40x65 at 0x7F2C0014F3D0>"
            ],
            "image/png": "[encoded data removed]"
          },
          "metadata": {}
        },
        {
          "output_type": "stream",
          "name": "stdout",
          "text": [
            "A\n",
            "Prediction: A\n"
          ]
        },
        {
          "output_type": "display_data",
          "data": {
            "text/plain": [
              "<PIL.Image.Image image mode=L size=31x61 at 0x7F2C09432810>"
            ],
            "image/png": "[encoded data removed]"
          },
          "metadata": {}
        },
        {
          "output_type": "stream",
          "name": "stdout",
          "text": [
            "A\n",
            "Prediction: A\n"
          ]
        },
        {
          "output_type": "display_data",
          "data": {
            "text/plain": [
              "<PIL.Image.Image image mode=L size=34x62 at 0x7F2C0014C290>"
            ],
            "image/png": "[encoded data removed]"
          },
          "metadata": {}
        },
        {
          "output_type": "stream",
          "name": "stdout",
          "text": [
            "B\n",
            "Prediction: B\n"
          ]
        },
        {
          "output_type": "display_data",
          "data": {
            "text/plain": [
              "<PIL.Image.Image image mode=L size=40x65 at 0x7F2C001464D0>"
            ],
            "image/png": "[encoded data removed]"
          },
          "metadata": {}
        },
        {
          "output_type": "stream",
          "name": "stdout",
          "text": [
            "B\n",
            "Prediction: B\n"
          ]
        },
        {
          "output_type": "display_data",
          "data": {
            "text/plain": [
              "<PIL.Image.Image image mode=L size=45x59 at 0x7F2C001467D0>"
            ],
            "image/png": "[encoded data removed]"
          },
          "metadata": {}
        },
        {
          "output_type": "stream",
          "name": "stdout",
          "text": [
            "B\n",
            "Prediction: B\n"
          ]
        },
        {
          "output_type": "display_data",
          "data": {
            "text/plain": [
              "<PIL.Image.Image image mode=L size=43x57 at 0x7F2C00146E10>"
            ],
            "image/png": "[encoded data removed]"
          },
          "metadata": {}
        },
        {
          "output_type": "stream",
          "name": "stdout",
          "text": [
            "B\n",
            "Prediction: B\n"
          ]
        },
        {
          "output_type": "display_data",
          "data": {
            "text/plain": [
              "<PIL.Image.Image image mode=L size=34x61 at 0x7F2C00146610>"
            ],
            "image/png": "[encoded data removed]"
          },
          "metadata": {}
        },
        {
          "output_type": "stream",
          "name": "stdout",
          "text": [
            "B\n",
            "Prediction: B\n"
          ]
        },
        {
          "output_type": "display_data",
          "data": {
            "text/plain": [
              "<PIL.Image.Image image mode=L size=47x66 at 0x7F2C00146A50>"
            ],
            "image/png": "[encoded data removed]"
          },
          "metadata": {}
        },
        {
          "output_type": "stream",
          "name": "stdout",
          "text": [
            "B\n",
            "Prediction: B\n"
          ]
        },
        {
          "output_type": "display_data",
          "data": {
            "text/plain": [
              "<PIL.Image.Image image mode=L size=37x57 at 0x7F2C00146D90>"
            ],
            "image/png": "[encoded data removed]"
          },
          "metadata": {}
        },
        {
          "output_type": "stream",
          "name": "stdout",
          "text": [
            "B\n",
            "Prediction: B\n"
          ]
        },
        {
          "output_type": "display_data",
          "data": {
            "text/plain": [
              "<PIL.Image.Image image mode=L size=44x61 at 0x7F2C001465D0>"
            ],
            "image/png": "[encoded data removed]"
          },
          "metadata": {}
        },
        {
          "output_type": "stream",
          "name": "stdout",
          "text": [
            "B\n",
            "Prediction: B\n"
          ]
        },
        {
          "output_type": "display_data",
          "data": {
            "text/plain": [
              "<PIL.Image.Image image mode=L size=36x66 at 0x7F2C00146DD0>"
            ],
            "image/png": "[encoded data removed]"
          },
          "metadata": {}
        },
        {
          "output_type": "stream",
          "name": "stdout",
          "text": [
            "B\n",
            "Prediction: B\n"
          ]
        },
        {
          "output_type": "display_data",
          "data": {
            "text/plain": [
              "<PIL.Image.Image image mode=L size=47x68 at 0x7F2C001462D0>"
            ],
            "image/png": "[encoded data removed]"
          },
          "metadata": {}
        },
        {
          "output_type": "stream",
          "name": "stdout",
          "text": [
            "B\n",
            "Prediction: B\n"
          ]
        },
        {
          "output_type": "display_data",
          "data": {
            "text/plain": [
              "<PIL.Image.Image image mode=L size=38x56 at 0x7F2C00146D50>"
            ],
            "image/png": "[encoded data removed]"
          },
          "metadata": {}
        },
        {
          "output_type": "stream",
          "name": "stdout",
          "text": [
            "B\n",
            "Prediction: B\n",
            "\n",
            "\n",
            "Predictions: 100.0\n"
          ]
        }
      ]
    }
  ]
}